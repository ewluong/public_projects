{
 "cells": [
  {
   "cell_type": "code",
   "execution_count": 2,
   "metadata": {},
   "outputs": [],
   "source": [
    "import numpy as np\n",
    "import matplotlib.pyplot as plt\n",
    "import matplotlib.animation as animation"
   ]
  },
  {
   "cell_type": "code",
   "execution_count": 3,
   "metadata": {},
   "outputs": [
    {
     "data": {
      "image/png": "[encoded data removed]",
      "text/plain": [
       "<Figure size 432x288 with 1 Axes>"
      ]
     },
     "metadata": {
      "needs_background": "light"
     },
     "output_type": "display_data"
    }
   ],
   "source": [
    "# Define the size of the image\n",
    "width = 1000\n",
    "height = 1000\n",
    "\n",
    "# Define the region of the complex plane to plot\n",
    "xmin, xmax = -2, 1\n",
    "ymin, ymax = -1.5, 1.5\n",
    "\n",
    "# Create a 2D array to store the number of iterations\n",
    "# required to escape the Mandelbrot set\n",
    "max_iter = 100\n",
    "escape = np.zeros((height, width), dtype=int)\n",
    "\n",
    "# Loop over all pixels in the image\n",
    "for j in range(height):\n",
    "    y = ymin + (ymax - ymin) * j / height\n",
    "    for i in range(width):\n",
    "        x = xmin + (xmax - xmin) * i / width\n",
    "        c = x + y * 1j\n",
    "        z = c\n",
    "        for n in range(max_iter):\n",
    "            if abs(z) > 2:\n",
    "                escape[j, i] = n\n",
    "                break\n",
    "            z = z**2 + c\n",
    "\n",
    "# Plot the Mandelbrot set\n",
    "plt.imshow(escape, cmap='hot', extent=[xmin, xmax, ymin, ymax])\n",
    "plt.axis('off')\n",
    "plt.show()\n"
   ]
  },
  {
   "cell_type": "code",
   "execution_count": 4,
   "metadata": {},
   "outputs": [
    {
     "ename": "RuntimeError",
     "evalue": "Requested MovieWriter (ffmpeg) not available",
     "output_type": "error",
     "traceback": [
      "\u001b[0;31m---------------------------------------------------------------------------\u001b[0m",
      "\u001b[0;31mRuntimeError\u001b[0m                              Traceback (most recent call last)",
      "\u001b[1;32m/Users/ericluong/public_projects/Mandelbrot/mandelbrot_set.ipynb Cell 3\u001b[0m in \u001b[0;36m<cell line: 54>\u001b[0;34m()\u001b[0m\n\u001b[1;32m     <a href='vscode-notebook-cell:/Users/ericluong/public_projects/Mandelbrot/mandelbrot_set.ipynb#W1sZmlsZQ%3D%3D?line=50'>51</a>\u001b[0m anim \u001b[39m=\u001b[39m animation\u001b[39m.\u001b[39mFuncAnimation(fig, update, frames\u001b[39m=\u001b[39mnum_frames, interval\u001b[39m=\u001b[39m\u001b[39m1000\u001b[39m\u001b[39m/\u001b[39mfps)\n\u001b[1;32m     <a href='vscode-notebook-cell:/Users/ericluong/public_projects/Mandelbrot/mandelbrot_set.ipynb#W1sZmlsZQ%3D%3D?line=52'>53</a>\u001b[0m \u001b[39m# Save the animation as a video file\u001b[39;00m\n\u001b[0;32m---> <a href='vscode-notebook-cell:/Users/ericluong/public_projects/Mandelbrot/mandelbrot_set.ipynb#W1sZmlsZQ%3D%3D?line=53'>54</a>\u001b[0m Writer \u001b[39m=\u001b[39m animation\u001b[39m.\u001b[39;49mwriters[\u001b[39m'\u001b[39;49m\u001b[39mffmpeg\u001b[39;49m\u001b[39m'\u001b[39;49m]\n\u001b[1;32m     <a href='vscode-notebook-cell:/Users/ericluong/public_projects/Mandelbrot/mandelbrot_set.ipynb#W1sZmlsZQ%3D%3D?line=54'>55</a>\u001b[0m writer \u001b[39m=\u001b[39m Writer(fps\u001b[39m=\u001b[39mfps)\n\u001b[1;32m     <a href='vscode-notebook-cell:/Users/ericluong/public_projects/Mandelbrot/mandelbrot_set.ipynb#W1sZmlsZQ%3D%3D?line=55'>56</a>\u001b[0m anim\u001b[39m.\u001b[39msave(\u001b[39m'\u001b[39m\u001b[39mmandelbrot.mp4\u001b[39m\u001b[39m'\u001b[39m, writer\u001b[39m=\u001b[39mwriter)\n",
      "File \u001b[0;32m~/opt/anaconda3/lib/python3.9/site-packages/matplotlib/animation.py:151\u001b[0m, in \u001b[0;36mMovieWriterRegistry.__getitem__\u001b[0;34m(self, name)\u001b[0m\n\u001b[1;32m    149\u001b[0m \u001b[39mif\u001b[39;00m \u001b[39mself\u001b[39m\u001b[39m.\u001b[39mis_available(name):\n\u001b[1;32m    150\u001b[0m     \u001b[39mreturn\u001b[39;00m \u001b[39mself\u001b[39m\u001b[39m.\u001b[39m_registered[name]\n\u001b[0;32m--> 151\u001b[0m \u001b[39mraise\u001b[39;00m \u001b[39mRuntimeError\u001b[39;00m(\u001b[39mf\u001b[39m\u001b[39m\"\u001b[39m\u001b[39mRequested MovieWriter (\u001b[39m\u001b[39m{\u001b[39;00mname\u001b[39m}\u001b[39;00m\u001b[39m) not available\u001b[39m\u001b[39m\"\u001b[39m)\n",
      "\u001b[0;31mRuntimeError\u001b[0m: Requested MovieWriter (ffmpeg) not available"
     ]
    },
    {
     "data": {
      "image/png": "[encoded data removed]",
      "text/plain": [
       "<Figure size 432x288 with 1 Axes>"
      ]
     },
     "metadata": {
      "needs_background": "light"
     },
     "output_type": "display_data"
    }
   ],
   "source": [
    "# Define the size of the image\n",
    "width = 1000\n",
    "height = 1000\n",
    "\n",
    "# Define the number of frames and the frame rate\n",
    "num_frames = 60\n",
    "fps = 10\n",
    "\n",
    "# Define the sequence of values for xmin, xmax, ymin, and ymax\n",
    "xmin_seq = np.linspace(-2, 1, num_frames)\n",
    "xmax_seq = np.linspace(-1, 2, num_frames)\n",
    "ymin_seq = np.linspace(-1.5, 1.5, num_frames)\n",
    "ymax_seq = np.linspace(1.5, -1.5, num_frames)\n",
    "\n",
    "# Create the figure and axis\n",
    "fig, ax = plt.subplots()\n",
    "\n",
    "# Create a function to update the plot for each frame\n",
    "def update(i):\n",
    "    xmin = xmin_seq[i]\n",
    "    xmax = xmax_seq[i]\n",
    "    ymin = ymin_seq[i]\n",
    "    ymax = ymax_seq[i]\n",
    "\n",
    "    # Create a 2D array to store the number of iterations\n",
    "    # required to escape the Mandelbrot set\n",
    "    max_iter = 100\n",
    "    escape = np.zeros((height, width), dtype=int)\n",
    "\n",
    "    # Loop over all pixels in the image\n",
    "    for j in range(height):\n",
    "        y = ymin + (ymax - ymin) * j / height\n",
    "        for i in range(width):\n",
    "            x = xmin + (xmax - xmin) * i / width\n",
    "            c = x + y * 1j\n",
    "            z = c\n",
    "            for n in range(max_iter):\n",
    "                if abs(z) > 2:\n",
    "                    escape[j, i] = n\n",
    "                    break\n",
    "                z = z**2 + c\n",
    "\n",
    "    # Update the plot\n",
    "    ax.clear()\n",
    "    ax.imshow(escape, cmap='hot', extent=[xmin, xmax, ymin, ymax])\n",
    "    ax.axis('off')\n",
    "\n",
    "    return ax\n",
    "\n",
    "# Create the animation\n",
    "anim = animation.FuncAnimation(fig, update, frames=num_frames, interval=1000/fps)\n",
    "\n",
    "# Save the animation as a video file\n",
    "Writer = animation.writers['ffmpeg']\n",
    "writer = Writer(fps=fps)\n",
    "anim.save('mandelbrot.mp4', writer=writer)\n"
   ]
  },
  {
   "cell_type": "code",
   "execution_count": null,
   "metadata": {},
   "outputs": [],
   "source": []
  }
 ],
 "metadata": {
  "kernelspec": {
   "display_name": "base",
   "language": "python",
   "name": "python3"
  },
  "language_info": {
   "codemirror_mode": {
    "name": "ipython",
    "version": 3
   },
   "file_extension": ".py",
   "mimetype": "text/x-python",
   "name": "python",
   "nbconvert_exporter": "python",
   "pygments_lexer": "ipython3",
   "version": "3.9.12"
  },
  "orig_nbformat": 4
 },
 "nbformat": 4,
 "nbformat_minor": 2
}
