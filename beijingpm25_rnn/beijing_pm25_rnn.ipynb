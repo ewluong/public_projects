{
  "cells": [
    {
      "cell_type": "code",
      "execution_count": 1,
      "metadata": {
        "id": "voCNnJMABfs1"
      },
      "outputs": [],
      "source": [
        "import pandas as pd\n",
        "import numpy as np\n",
        "from matplotlib import pyplot as plt"
      ]
    },
    {
      "cell_type": "markdown",
      "metadata": {
        "id": "KGs0A4_gBtRE"
      },
      "source": [
        "## Data: Beijing PM2.5 Data Data Set\n",
        "## Predicting Next Day Pollution Using RNN Model\n",
        "This hourly data set contains the PM2.5 data of US Embassy in Beijing.\n",
        "\n",
        "Source: https://archive.ics.uci.edu/dataset/381/beijing+pm2+5+data"
      ]
    },
    {
      "cell_type": "code",
      "execution_count": 2,
      "metadata": {
        "colab": {
          "base_uri": "https://localhost:8080/",
          "height": 206
        },
        "id": "wti8kRNaBCDs",
        "outputId": "90d7045c-6d83-423f-a5e5-05baafbcb6e7"
      },
      "outputs": [
        {
          "data": {
            "text/html": [
              "<div>\n",
              "<style scoped>\n",
              "    .dataframe tbody tr th:only-of-type {\n",
              "        vertical-align: middle;\n",
              "    }\n",
              "\n",
              "    .dataframe tbody tr th {\n",
              "        vertical-align: top;\n",
              "    }\n",
              "\n",
              "    .dataframe thead th {\n",
              "        text-align: right;\n",
              "    }\n",
              "</style>\n",
              "<table border=\"1\" class=\"dataframe\">\n",
              "  <thead>\n",
              "    <tr style=\"text-align: right;\">\n",
              "      <th></th>\n",
              "      <th>No</th>\n",
              "      <th>year</th>\n",
              "      <th>month</th>\n",
              "      <th>day</th>\n",
              "      <th>hour</th>\n",
              "      <th>pm2.5</th>\n",
              "      <th>DEWP</th>\n",
              "      <th>TEMP</th>\n",
              "      <th>PRES</th>\n",
              "      <th>cbwd</th>\n",
              "      <th>Iws</th>\n",
              "      <th>Is</th>\n",
              "      <th>Ir</th>\n",
              "    </tr>\n",
              "  </thead>\n",
              "  <tbody>\n",
              "    <tr>\n",
              "      <th>0</th>\n",
              "      <td>1</td>\n",
              "      <td>2010</td>\n",
              "      <td>1</td>\n",
              "      <td>1</td>\n",
              "      <td>0</td>\n",
              "      <td>NaN</td>\n",
              "      <td>-21</td>\n",
              "      <td>-11.0</td>\n",
              "      <td>1021.0</td>\n",
              "      <td>NW</td>\n",
              "      <td>1.79</td>\n",
              "      <td>0</td>\n",
              "      <td>0</td>\n",
              "    </tr>\n",
              "    <tr>\n",
              "      <th>1</th>\n",
              "      <td>2</td>\n",
              "      <td>2010</td>\n",
              "      <td>1</td>\n",
              "      <td>1</td>\n",
              "      <td>1</td>\n",
              "      <td>NaN</td>\n",
              "      <td>-21</td>\n",
              "      <td>-12.0</td>\n",
              "      <td>1020.0</td>\n",
              "      <td>NW</td>\n",
              "      <td>4.92</td>\n",
              "      <td>0</td>\n",
              "      <td>0</td>\n",
              "    </tr>\n",
              "    <tr>\n",
              "      <th>2</th>\n",
              "      <td>3</td>\n",
              "      <td>2010</td>\n",
              "      <td>1</td>\n",
              "      <td>1</td>\n",
              "      <td>2</td>\n",
              "      <td>NaN</td>\n",
              "      <td>-21</td>\n",
              "      <td>-11.0</td>\n",
              "      <td>1019.0</td>\n",
              "      <td>NW</td>\n",
              "      <td>6.71</td>\n",
              "      <td>0</td>\n",
              "      <td>0</td>\n",
              "    </tr>\n",
              "    <tr>\n",
              "      <th>3</th>\n",
              "      <td>4</td>\n",
              "      <td>2010</td>\n",
              "      <td>1</td>\n",
              "      <td>1</td>\n",
              "      <td>3</td>\n",
              "      <td>NaN</td>\n",
              "      <td>-21</td>\n",
              "      <td>-14.0</td>\n",
              "      <td>1019.0</td>\n",
              "      <td>NW</td>\n",
              "      <td>9.84</td>\n",
              "      <td>0</td>\n",
              "      <td>0</td>\n",
              "    </tr>\n",
              "    <tr>\n",
              "      <th>4</th>\n",
              "      <td>5</td>\n",
              "      <td>2010</td>\n",
              "      <td>1</td>\n",
              "      <td>1</td>\n",
              "      <td>4</td>\n",
              "      <td>NaN</td>\n",
              "      <td>-20</td>\n",
              "      <td>-12.0</td>\n",
              "      <td>1018.0</td>\n",
              "      <td>NW</td>\n",
              "      <td>12.97</td>\n",
              "      <td>0</td>\n",
              "      <td>0</td>\n",
              "    </tr>\n",
              "  </tbody>\n",
              "</table>\n",
              "</div>"
            ],
            "text/plain": [
              "   No  year  month  day  hour  pm2.5  DEWP  TEMP    PRES cbwd    Iws  Is  Ir\n",
              "0   1  2010      1    1     0    NaN   -21 -11.0  1021.0   NW   1.79   0   0\n",
              "1   2  2010      1    1     1    NaN   -21 -12.0  1020.0   NW   4.92   0   0\n",
              "2   3  2010      1    1     2    NaN   -21 -11.0  1019.0   NW   6.71   0   0\n",
              "3   4  2010      1    1     3    NaN   -21 -14.0  1019.0   NW   9.84   0   0\n",
              "4   5  2010      1    1     4    NaN   -20 -12.0  1018.0   NW  12.97   0   0"
            ]
          },
          "execution_count": 2,
          "metadata": {},
          "output_type": "execute_result"
        }
      ],
      "source": [
        "# import datset and show top five instances\n",
        "df = pd.read_csv('PRSA_data_2010.1.1-2014.12.31.csv')\n",
        "\n",
        "# show top five instances\n",
        "df.head()"
      ]
    },
    {
      "cell_type": "code",
      "execution_count": 3,
      "metadata": {
        "colab": {
          "base_uri": "https://localhost:8080/",
          "height": 206
        },
        "id": "sO8FR4xH-pJf",
        "outputId": "253f4ad2-df09-46aa-ca05-4f5f0c79b0ff"
      },
      "outputs": [
        {
          "data": {
            "text/html": [
              "<div>\n",
              "<style scoped>\n",
              "    .dataframe tbody tr th:only-of-type {\n",
              "        vertical-align: middle;\n",
              "    }\n",
              "\n",
              "    .dataframe tbody tr th {\n",
              "        vertical-align: top;\n",
              "    }\n",
              "\n",
              "    .dataframe thead th {\n",
              "        text-align: right;\n",
              "    }\n",
              "</style>\n",
              "<table border=\"1\" class=\"dataframe\">\n",
              "  <thead>\n",
              "    <tr style=\"text-align: right;\">\n",
              "      <th></th>\n",
              "      <th>No</th>\n",
              "      <th>year</th>\n",
              "      <th>month</th>\n",
              "      <th>day</th>\n",
              "      <th>hour</th>\n",
              "      <th>pm2.5</th>\n",
              "      <th>DEWP</th>\n",
              "      <th>TEMP</th>\n",
              "      <th>PRES</th>\n",
              "      <th>cbwd</th>\n",
              "      <th>Iws</th>\n",
              "      <th>Is</th>\n",
              "      <th>Ir</th>\n",
              "      <th>Date</th>\n",
              "    </tr>\n",
              "  </thead>\n",
              "  <tbody>\n",
              "    <tr>\n",
              "      <th>0</th>\n",
              "      <td>1</td>\n",
              "      <td>2010</td>\n",
              "      <td>1</td>\n",
              "      <td>1</td>\n",
              "      <td>0</td>\n",
              "      <td>NaN</td>\n",
              "      <td>-21</td>\n",
              "      <td>-11.0</td>\n",
              "      <td>1021.0</td>\n",
              "      <td>NW</td>\n",
              "      <td>1.79</td>\n",
              "      <td>0</td>\n",
              "      <td>0</td>\n",
              "      <td>2010-01-01</td>\n",
              "    </tr>\n",
              "    <tr>\n",
              "      <th>1</th>\n",
              "      <td>2</td>\n",
              "      <td>2010</td>\n",
              "      <td>1</td>\n",
              "      <td>1</td>\n",
              "      <td>1</td>\n",
              "      <td>NaN</td>\n",
              "      <td>-21</td>\n",
              "      <td>-12.0</td>\n",
              "      <td>1020.0</td>\n",
              "      <td>NW</td>\n",
              "      <td>4.92</td>\n",
              "      <td>0</td>\n",
              "      <td>0</td>\n",
              "      <td>2010-01-01</td>\n",
              "    </tr>\n",
              "    <tr>\n",
              "      <th>2</th>\n",
              "      <td>3</td>\n",
              "      <td>2010</td>\n",
              "      <td>1</td>\n",
              "      <td>1</td>\n",
              "      <td>2</td>\n",
              "      <td>NaN</td>\n",
              "      <td>-21</td>\n",
              "      <td>-11.0</td>\n",
              "      <td>1019.0</td>\n",
              "      <td>NW</td>\n",
              "      <td>6.71</td>\n",
              "      <td>0</td>\n",
              "      <td>0</td>\n",
              "      <td>2010-01-01</td>\n",
              "    </tr>\n",
              "    <tr>\n",
              "      <th>3</th>\n",
              "      <td>4</td>\n",
              "      <td>2010</td>\n",
              "      <td>1</td>\n",
              "      <td>1</td>\n",
              "      <td>3</td>\n",
              "      <td>NaN</td>\n",
              "      <td>-21</td>\n",
              "      <td>-14.0</td>\n",
              "      <td>1019.0</td>\n",
              "      <td>NW</td>\n",
              "      <td>9.84</td>\n",
              "      <td>0</td>\n",
              "      <td>0</td>\n",
              "      <td>2010-01-01</td>\n",
              "    </tr>\n",
              "    <tr>\n",
              "      <th>4</th>\n",
              "      <td>5</td>\n",
              "      <td>2010</td>\n",
              "      <td>1</td>\n",
              "      <td>1</td>\n",
              "      <td>4</td>\n",
              "      <td>NaN</td>\n",
              "      <td>-20</td>\n",
              "      <td>-12.0</td>\n",
              "      <td>1018.0</td>\n",
              "      <td>NW</td>\n",
              "      <td>12.97</td>\n",
              "      <td>0</td>\n",
              "      <td>0</td>\n",
              "      <td>2010-01-01</td>\n",
              "    </tr>\n",
              "  </tbody>\n",
              "</table>\n",
              "</div>"
            ],
            "text/plain": [
              "   No  year  month  day  hour  pm2.5  DEWP  TEMP    PRES cbwd    Iws  Is  Ir  \\\n",
              "0   1  2010      1    1     0    NaN   -21 -11.0  1021.0   NW   1.79   0   0   \n",
              "1   2  2010      1    1     1    NaN   -21 -12.0  1020.0   NW   4.92   0   0   \n",
              "2   3  2010      1    1     2    NaN   -21 -11.0  1019.0   NW   6.71   0   0   \n",
              "3   4  2010      1    1     3    NaN   -21 -14.0  1019.0   NW   9.84   0   0   \n",
              "4   5  2010      1    1     4    NaN   -20 -12.0  1018.0   NW  12.97   0   0   \n",
              "\n",
              "        Date  \n",
              "0 2010-01-01  \n",
              "1 2010-01-01  \n",
              "2 2010-01-01  \n",
              "3 2010-01-01  \n",
              "4 2010-01-01  "
            ]
          },
          "execution_count": 3,
          "metadata": {},
          "output_type": "execute_result"
        }
      ],
      "source": [
        "# create new column 'Date' by concatenating 'Month', 'Day', and 'Year' columns\n",
        "df['Date'] = df['month'].astype(str) + '/' + df['day'].astype(str) + '/' + df['year'].astype(str)\n",
        "df['Date'] = pd.to_datetime(df['Date'], format='%m/%d/%Y')\n",
        "df.head()"
      ]
    },
    {
      "cell_type": "code",
      "execution_count": 4,
      "metadata": {
        "colab": {
          "base_uri": "https://localhost:8080/",
          "height": 206
        },
        "id": "81J1SoKl9r-A",
        "outputId": "35466f1f-a5f9-4a31-b3db-213ed916e041"
      },
      "outputs": [
        {
          "data": {
            "text/html": [
              "<div>\n",
              "<style scoped>\n",
              "    .dataframe tbody tr th:only-of-type {\n",
              "        vertical-align: middle;\n",
              "    }\n",
              "\n",
              "    .dataframe tbody tr th {\n",
              "        vertical-align: top;\n",
              "    }\n",
              "\n",
              "    .dataframe thead th {\n",
              "        text-align: right;\n",
              "    }\n",
              "</style>\n",
              "<table border=\"1\" class=\"dataframe\">\n",
              "  <thead>\n",
              "    <tr style=\"text-align: right;\">\n",
              "      <th></th>\n",
              "      <th>Date</th>\n",
              "      <th>pm2.5</th>\n",
              "      <th>DEWP</th>\n",
              "      <th>TEMP</th>\n",
              "      <th>PRES</th>\n",
              "      <th>Iws</th>\n",
              "      <th>Is</th>\n",
              "      <th>Ir</th>\n",
              "    </tr>\n",
              "  </thead>\n",
              "  <tbody>\n",
              "    <tr>\n",
              "      <th>0</th>\n",
              "      <td>2010-01-01</td>\n",
              "      <td>NaN</td>\n",
              "      <td>-18.750000</td>\n",
              "      <td>-6.750000</td>\n",
              "      <td>1017.083333</td>\n",
              "      <td>14.458333</td>\n",
              "      <td>0.000000</td>\n",
              "      <td>0.0</td>\n",
              "    </tr>\n",
              "    <tr>\n",
              "      <th>1</th>\n",
              "      <td>2010-01-02</td>\n",
              "      <td>145.958333</td>\n",
              "      <td>-8.500000</td>\n",
              "      <td>-5.125000</td>\n",
              "      <td>1024.750000</td>\n",
              "      <td>24.860000</td>\n",
              "      <td>0.708333</td>\n",
              "      <td>0.0</td>\n",
              "    </tr>\n",
              "    <tr>\n",
              "      <th>2</th>\n",
              "      <td>2010-01-03</td>\n",
              "      <td>78.833333</td>\n",
              "      <td>-10.125000</td>\n",
              "      <td>-8.541667</td>\n",
              "      <td>1022.791667</td>\n",
              "      <td>70.937917</td>\n",
              "      <td>14.166667</td>\n",
              "      <td>0.0</td>\n",
              "    </tr>\n",
              "    <tr>\n",
              "      <th>3</th>\n",
              "      <td>2010-01-04</td>\n",
              "      <td>31.333333</td>\n",
              "      <td>-20.875000</td>\n",
              "      <td>-11.500000</td>\n",
              "      <td>1029.291667</td>\n",
              "      <td>111.160833</td>\n",
              "      <td>0.000000</td>\n",
              "      <td>0.0</td>\n",
              "    </tr>\n",
              "    <tr>\n",
              "      <th>4</th>\n",
              "      <td>2010-01-05</td>\n",
              "      <td>42.458333</td>\n",
              "      <td>-24.583333</td>\n",
              "      <td>-14.458333</td>\n",
              "      <td>1033.625000</td>\n",
              "      <td>56.920000</td>\n",
              "      <td>0.000000</td>\n",
              "      <td>0.0</td>\n",
              "    </tr>\n",
              "  </tbody>\n",
              "</table>\n",
              "</div>"
            ],
            "text/plain": [
              "        Date       pm2.5       DEWP       TEMP         PRES         Iws  \\\n",
              "0 2010-01-01         NaN -18.750000  -6.750000  1017.083333   14.458333   \n",
              "1 2010-01-02  145.958333  -8.500000  -5.125000  1024.750000   24.860000   \n",
              "2 2010-01-03   78.833333 -10.125000  -8.541667  1022.791667   70.937917   \n",
              "3 2010-01-04   31.333333 -20.875000 -11.500000  1029.291667  111.160833   \n",
              "4 2010-01-05   42.458333 -24.583333 -14.458333  1033.625000   56.920000   \n",
              "\n",
              "          Is   Ir  \n",
              "0   0.000000  0.0  \n",
              "1   0.708333  0.0  \n",
              "2  14.166667  0.0  \n",
              "3   0.000000  0.0  \n",
              "4   0.000000  0.0  "
            ]
          },
          "execution_count": 4,
          "metadata": {},
          "output_type": "execute_result"
        }
      ],
      "source": [
        "# aggregate dataset to at the day level by averaging values of pm2.5, DEWP, TEMP, PRES, lws, ls, lr\n",
        "\n",
        "daily_data = df.groupby('Date')[['pm2.5', 'DEWP', 'TEMP', 'PRES', 'Iws', 'Is', 'Ir']].mean().reset_index()\n",
        "\n",
        "daily_data.head()"
      ]
    },
    {
      "cell_type": "code",
      "execution_count": 5,
      "metadata": {
        "colab": {
          "base_uri": "https://localhost:8080/",
          "height": 206
        },
        "id": "KAsep3dQHnvm",
        "outputId": "9df37bfb-de3f-4d33-edff-2dd5807d09cc"
      },
      "outputs": [
        {
          "data": {
            "text/html": [
              "<div>\n",
              "<style scoped>\n",
              "    .dataframe tbody tr th:only-of-type {\n",
              "        vertical-align: middle;\n",
              "    }\n",
              "\n",
              "    .dataframe tbody tr th {\n",
              "        vertical-align: top;\n",
              "    }\n",
              "\n",
              "    .dataframe thead th {\n",
              "        text-align: right;\n",
              "    }\n",
              "</style>\n",
              "<table border=\"1\" class=\"dataframe\">\n",
              "  <thead>\n",
              "    <tr style=\"text-align: right;\">\n",
              "      <th></th>\n",
              "      <th>Date</th>\n",
              "      <th>Pollution</th>\n",
              "      <th>Dew</th>\n",
              "      <th>Temp</th>\n",
              "      <th>Press</th>\n",
              "      <th>Wind_spd</th>\n",
              "      <th>Snow</th>\n",
              "      <th>Rain</th>\n",
              "    </tr>\n",
              "  </thead>\n",
              "  <tbody>\n",
              "    <tr>\n",
              "      <th>0</th>\n",
              "      <td>2010-01-01</td>\n",
              "      <td>NaN</td>\n",
              "      <td>-18.750000</td>\n",
              "      <td>-6.750000</td>\n",
              "      <td>1017.083333</td>\n",
              "      <td>14.458333</td>\n",
              "      <td>0.000000</td>\n",
              "      <td>0.0</td>\n",
              "    </tr>\n",
              "    <tr>\n",
              "      <th>1</th>\n",
              "      <td>2010-01-02</td>\n",
              "      <td>145.958333</td>\n",
              "      <td>-8.500000</td>\n",
              "      <td>-5.125000</td>\n",
              "      <td>1024.750000</td>\n",
              "      <td>24.860000</td>\n",
              "      <td>0.708333</td>\n",
              "      <td>0.0</td>\n",
              "    </tr>\n",
              "    <tr>\n",
              "      <th>2</th>\n",
              "      <td>2010-01-03</td>\n",
              "      <td>78.833333</td>\n",
              "      <td>-10.125000</td>\n",
              "      <td>-8.541667</td>\n",
              "      <td>1022.791667</td>\n",
              "      <td>70.937917</td>\n",
              "      <td>14.166667</td>\n",
              "      <td>0.0</td>\n",
              "    </tr>\n",
              "    <tr>\n",
              "      <th>3</th>\n",
              "      <td>2010-01-04</td>\n",
              "      <td>31.333333</td>\n",
              "      <td>-20.875000</td>\n",
              "      <td>-11.500000</td>\n",
              "      <td>1029.291667</td>\n",
              "      <td>111.160833</td>\n",
              "      <td>0.000000</td>\n",
              "      <td>0.0</td>\n",
              "    </tr>\n",
              "    <tr>\n",
              "      <th>4</th>\n",
              "      <td>2010-01-05</td>\n",
              "      <td>42.458333</td>\n",
              "      <td>-24.583333</td>\n",
              "      <td>-14.458333</td>\n",
              "      <td>1033.625000</td>\n",
              "      <td>56.920000</td>\n",
              "      <td>0.000000</td>\n",
              "      <td>0.0</td>\n",
              "    </tr>\n",
              "  </tbody>\n",
              "</table>\n",
              "</div>"
            ],
            "text/plain": [
              "        Date   Pollution        Dew       Temp        Press    Wind_spd  \\\n",
              "0 2010-01-01         NaN -18.750000  -6.750000  1017.083333   14.458333   \n",
              "1 2010-01-02  145.958333  -8.500000  -5.125000  1024.750000   24.860000   \n",
              "2 2010-01-03   78.833333 -10.125000  -8.541667  1022.791667   70.937917   \n",
              "3 2010-01-04   31.333333 -20.875000 -11.500000  1029.291667  111.160833   \n",
              "4 2010-01-05   42.458333 -24.583333 -14.458333  1033.625000   56.920000   \n",
              "\n",
              "        Snow  Rain  \n",
              "0   0.000000   0.0  \n",
              "1   0.708333   0.0  \n",
              "2  14.166667   0.0  \n",
              "3   0.000000   0.0  \n",
              "4   0.000000   0.0  "
            ]
          },
          "execution_count": 5,
          "metadata": {},
          "output_type": "execute_result"
        }
      ],
      "source": [
        "# rename columns and show the first 5 rows to Date, Pollution, Dew, Temp, Press, Wind_spd, Snow, Rain\n",
        "\n",
        "daily_data = daily_data.rename(columns={'No': 'Date', 'pm2.5': 'Pollution', 'DEWP': 'Dew', 'TEMP': 'Temp', 'PRES': 'Press', 'Iws': 'Wind_spd', 'Is': 'Snow', 'Ir': 'Rain'})\n",
        "\n",
        "daily_data.head()"
      ]
    },
    {
      "cell_type": "code",
      "execution_count": 6,
      "metadata": {
        "colab": {
          "base_uri": "https://localhost:8080/"
        },
        "id": "TQQ_UanZFvhW",
        "outputId": "318887e8-6c57-4f6b-cab5-9d2defe847f8"
      },
      "outputs": [
        {
          "data": {
            "text/plain": [
              "Date         datetime64[ns]\n",
              "Pollution           float64\n",
              "Dew                 float64\n",
              "Temp                float64\n",
              "Press               float64\n",
              "Wind_spd            float64\n",
              "Snow                float64\n",
              "Rain                float64\n",
              "dtype: object"
            ]
          },
          "execution_count": 6,
          "metadata": {},
          "output_type": "execute_result"
        }
      ],
      "source": [
        "# change Date column to datetime and show data types\n",
        "\n",
        "daily_data['Date'] = pd.to_datetime(daily_data['Date'])\n",
        "daily_data.dtypes\n"
      ]
    },
    {
      "cell_type": "code",
      "execution_count": 7,
      "metadata": {
        "colab": {
          "base_uri": "https://localhost:8080/",
          "height": 206
        },
        "id": "Wq-uV7pAFRVl",
        "outputId": "2d0980be-eb35-46a5-abe6-96fb4464089b"
      },
      "outputs": [
        {
          "data": {
            "text/html": [
              "<div>\n",
              "<style scoped>\n",
              "    .dataframe tbody tr th:only-of-type {\n",
              "        vertical-align: middle;\n",
              "    }\n",
              "\n",
              "    .dataframe tbody tr th {\n",
              "        vertical-align: top;\n",
              "    }\n",
              "\n",
              "    .dataframe thead th {\n",
              "        text-align: right;\n",
              "    }\n",
              "</style>\n",
              "<table border=\"1\" class=\"dataframe\">\n",
              "  <thead>\n",
              "    <tr style=\"text-align: right;\">\n",
              "      <th></th>\n",
              "      <th>No</th>\n",
              "      <th>year</th>\n",
              "      <th>month</th>\n",
              "      <th>day</th>\n",
              "      <th>hour</th>\n",
              "      <th>pm2.5</th>\n",
              "      <th>DEWP</th>\n",
              "      <th>TEMP</th>\n",
              "      <th>PRES</th>\n",
              "      <th>cbwd</th>\n",
              "      <th>Iws</th>\n",
              "      <th>Is</th>\n",
              "      <th>Ir</th>\n",
              "      <th>Date</th>\n",
              "    </tr>\n",
              "  </thead>\n",
              "  <tbody>\n",
              "    <tr>\n",
              "      <th>0</th>\n",
              "      <td>1</td>\n",
              "      <td>2010</td>\n",
              "      <td>1</td>\n",
              "      <td>1</td>\n",
              "      <td>0</td>\n",
              "      <td>NaN</td>\n",
              "      <td>-21</td>\n",
              "      <td>-11.0</td>\n",
              "      <td>1021.0</td>\n",
              "      <td>NW</td>\n",
              "      <td>1.79</td>\n",
              "      <td>0</td>\n",
              "      <td>0</td>\n",
              "      <td>2010-01-01</td>\n",
              "    </tr>\n",
              "    <tr>\n",
              "      <th>23</th>\n",
              "      <td>24</td>\n",
              "      <td>2010</td>\n",
              "      <td>1</td>\n",
              "      <td>1</td>\n",
              "      <td>23</td>\n",
              "      <td>NaN</td>\n",
              "      <td>-17</td>\n",
              "      <td>-5.0</td>\n",
              "      <td>1020.0</td>\n",
              "      <td>cv</td>\n",
              "      <td>0.89</td>\n",
              "      <td>0</td>\n",
              "      <td>0</td>\n",
              "      <td>2010-01-01</td>\n",
              "    </tr>\n",
              "    <tr>\n",
              "      <th>22</th>\n",
              "      <td>23</td>\n",
              "      <td>2010</td>\n",
              "      <td>1</td>\n",
              "      <td>1</td>\n",
              "      <td>22</td>\n",
              "      <td>NaN</td>\n",
              "      <td>-17</td>\n",
              "      <td>-5.0</td>\n",
              "      <td>1018.0</td>\n",
              "      <td>NW</td>\n",
              "      <td>2.68</td>\n",
              "      <td>0</td>\n",
              "      <td>0</td>\n",
              "      <td>2010-01-01</td>\n",
              "    </tr>\n",
              "    <tr>\n",
              "      <th>21</th>\n",
              "      <td>22</td>\n",
              "      <td>2010</td>\n",
              "      <td>1</td>\n",
              "      <td>1</td>\n",
              "      <td>21</td>\n",
              "      <td>NaN</td>\n",
              "      <td>-17</td>\n",
              "      <td>-5.0</td>\n",
              "      <td>1018.0</td>\n",
              "      <td>NW</td>\n",
              "      <td>1.79</td>\n",
              "      <td>0</td>\n",
              "      <td>0</td>\n",
              "      <td>2010-01-01</td>\n",
              "    </tr>\n",
              "    <tr>\n",
              "      <th>20</th>\n",
              "      <td>21</td>\n",
              "      <td>2010</td>\n",
              "      <td>1</td>\n",
              "      <td>1</td>\n",
              "      <td>20</td>\n",
              "      <td>NaN</td>\n",
              "      <td>-17</td>\n",
              "      <td>-5.0</td>\n",
              "      <td>1017.0</td>\n",
              "      <td>cv</td>\n",
              "      <td>0.89</td>\n",
              "      <td>0</td>\n",
              "      <td>0</td>\n",
              "      <td>2010-01-01</td>\n",
              "    </tr>\n",
              "  </tbody>\n",
              "</table>\n",
              "</div>"
            ],
            "text/plain": [
              "    No  year  month  day  hour  pm2.5  DEWP  TEMP    PRES cbwd   Iws  Is  Ir  \\\n",
              "0    1  2010      1    1     0    NaN   -21 -11.0  1021.0   NW  1.79   0   0   \n",
              "23  24  2010      1    1    23    NaN   -17  -5.0  1020.0   cv  0.89   0   0   \n",
              "22  23  2010      1    1    22    NaN   -17  -5.0  1018.0   NW  2.68   0   0   \n",
              "21  22  2010      1    1    21    NaN   -17  -5.0  1018.0   NW  1.79   0   0   \n",
              "20  21  2010      1    1    20    NaN   -17  -5.0  1017.0   cv  0.89   0   0   \n",
              "\n",
              "         Date  \n",
              "0  2010-01-01  \n",
              "23 2010-01-01  \n",
              "22 2010-01-01  \n",
              "21 2010-01-01  \n",
              "20 2010-01-01  "
            ]
          },
          "execution_count": 7,
          "metadata": {},
          "output_type": "execute_result"
        }
      ],
      "source": [
        "# sort by Date and show head\n",
        "\n",
        "df.sort_values(by='Date').head()"
      ]
    },
    {
      "cell_type": "code",
      "execution_count": 8,
      "metadata": {
        "colab": {
          "base_uri": "https://localhost:8080/"
        },
        "id": "5R224-ZnI_w9",
        "outputId": "62c57ba0-2c55-4500-e640-e33bb997d041"
      },
      "outputs": [
        {
          "name": "stdout",
          "output_type": "stream",
          "text": [
            "Number of missing values in each column:\n",
            "Date          0\n",
            "Pollution    37\n",
            "Dew           0\n",
            "Temp          0\n",
            "Press         0\n",
            "Wind_spd      0\n",
            "Snow          0\n",
            "Rain          0\n",
            "dtype: int64\n"
          ]
        }
      ],
      "source": [
        "# show number of missing values\n",
        "print(\"Number of missing values in each column:\")\n",
        "print(daily_data.isnull().sum())"
      ]
    },
    {
      "cell_type": "code",
      "execution_count": 10,
      "metadata": {
        "colab": {
          "base_uri": "https://localhost:8080/",
          "height": 237
        },
        "id": "UJSDEo22JFFD",
        "outputId": "d8a44e7c-da7d-41da-fb52-da860bc4ec06"
      },
      "outputs": [
        {
          "name": "stdout",
          "output_type": "stream",
          "text": [
            "           Date   Pollution        Dew       Temp        Press    Wind_spd  \\\n",
            "1    2010-01-02  145.958333  -8.500000  -5.125000  1024.750000   24.860000   \n",
            "2    2010-01-03   78.833333 -10.125000  -8.541667  1022.791667   70.937917   \n",
            "3    2010-01-04   31.333333 -20.875000 -11.500000  1029.291667  111.160833   \n",
            "4    2010-01-05   42.458333 -24.583333 -14.458333  1033.625000   56.920000   \n",
            "5    2010-01-06   56.416667 -23.708333 -12.541667  1033.750000   18.511667   \n",
            "...         ...         ...        ...        ...          ...         ...   \n",
            "1821 2014-12-27  238.666667  -9.666667  -1.791667  1027.833333    9.278333   \n",
            "1822 2014-12-28  197.375000 -10.791667   1.583333  1019.958333   10.948750   \n",
            "1823 2014-12-29  159.000000 -12.333333   0.750000  1013.750000    8.000000   \n",
            "1824 2014-12-30   46.083333 -13.916667   1.875000  1019.125000    9.778333   \n",
            "1825 2014-12-31   10.041667 -21.791667  -1.916667  1032.125000  167.458333   \n",
            "\n",
            "           Snow  Rain  \n",
            "1      0.708333   0.0  \n",
            "2     14.166667   0.0  \n",
            "3      0.000000   0.0  \n",
            "4      0.000000   0.0  \n",
            "5      0.000000   0.0  \n",
            "...         ...   ...  \n",
            "1821   0.000000   0.0  \n",
            "1822   0.000000   0.0  \n",
            "1823   0.000000   0.0  \n",
            "1824   0.000000   0.0  \n",
            "1825   0.000000   0.0  \n",
            "\n",
            "[1825 rows x 8 columns]\n"
          ]
        }
      ],
      "source": [
        "# forward imputation for missing Pollution values, skip the first data instance on 2010-01-01\n",
        "\n",
        "daily_data['Pollution'].fillna(method='ffill', inplace=True)\n",
        "\n",
        "data_subset = daily_data[(daily_data['Date'] >= '2010-01-02') & (daily_data['Date'] <= '2014-12-31')]\n",
        "\n",
        "print(data_subset)"
      ]
    },
    {
      "cell_type": "code",
      "execution_count": 11,
      "metadata": {
        "colab": {
          "base_uri": "https://localhost:8080/"
        },
        "id": "MlCiba7t8ZKf",
        "outputId": "fcc0e894-fd91-4df8-a55a-5f5dadea440b"
      },
      "outputs": [
        {
          "name": "stdout",
          "output_type": "stream",
          "text": [
            "1826\n"
          ]
        }
      ],
      "source": [
        "# print the total number of data points\n",
        "print(len(daily_data))"
      ]
    },
    {
      "cell_type": "code",
      "execution_count": 12,
      "metadata": {
        "colab": {
          "base_uri": "https://localhost:8080/"
        },
        "id": "rp-xptIzTPD6",
        "outputId": "b302adaf-76f1-4970-f920-1922b979fb3d"
      },
      "outputs": [
        {
          "name": "stdout",
          "output_type": "stream",
          "text": [
            "1825\n"
          ]
        }
      ],
      "source": [
        "# drop the first data and print again\n",
        "daily_data.drop(daily_data.index[0], inplace=True)\n",
        "print(len(daily_data))"
      ]
    },
    {
      "cell_type": "code",
      "execution_count": 13,
      "metadata": {
        "colab": {
          "base_uri": "https://localhost:8080/",
          "height": 410
        },
        "id": "Fw7VMqv_B75M",
        "outputId": "58217245-2aac-4a57-caad-f84c16eb7ab2"
      },
      "outputs": [
        {
          "data": {
            "image/png": "[encoded data removed]",
            "text/plain": [
              "<Figure size 640x480 with 1 Axes>"
            ]
          },
          "metadata": {},
          "output_type": "display_data"
        }
      ],
      "source": [
        "# plot Pollution vs Date, Pollution is measured in ug/m3 using matplotlib\n",
        "plt.plot(daily_data['Date'], daily_data['Pollution'])\n",
        "plt.xlabel('Date')\n",
        "plt.ylabel('PM2.5 concentration (ug/m^3)')\n",
        "plt.title('Pollution vs Date')\n",
        "plt.show()"
      ]
    },
    {
      "cell_type": "code",
      "execution_count": 14,
      "metadata": {
        "colab": {
          "base_uri": "https://localhost:8080/"
        },
        "id": "e2w3TDADYkcb",
        "outputId": "7417d1aa-7e31-4d19-d443-64237faea395"
      },
      "outputs": [
        {
          "name": "stdout",
          "output_type": "stream",
          "text": [
            "Train size: 1460\n",
            "Test size: 365\n"
          ]
        }
      ],
      "source": [
        "# split into train and test data\n",
        "train_data = daily_data[daily_data['Date'] < '2014-01-01']\n",
        "test_data = daily_data[daily_data['Date'] >= '2014-01-01']\n",
        "print(\"Train size:\", len(train_data))\n",
        "print(\"Test size:\", len(test_data))"
      ]
    },
    {
      "cell_type": "code",
      "execution_count": 15,
      "metadata": {
        "colab": {
          "base_uri": "https://localhost:8080/",
          "height": 363
        },
        "id": "XmTEI8PYva0Z",
        "outputId": "ea38b6f7-debc-4247-dd74-1f1f6f3527dd"
      },
      "outputs": [
        {
          "name": "stdout",
          "output_type": "stream",
          "text": [
            "          0         1         2         3         4     5    6\n",
            "0  0.260227  0.353261  0.197183  0.621417  0.050624  0.05  0.0\n",
            "1  0.138075  0.322981  0.125000  0.581788  0.150425  1.00  0.0\n",
            "2  0.051636  0.122671  0.062500  0.713322  0.237544  0.00  0.0\n",
            "3  0.071881  0.053571  0.000000  0.801012  0.120063  0.00  0.0\n",
            "4  0.097282  0.069876  0.040493  0.803541  0.036874  0.00  0.0\n",
            "5  0.120181  0.115683  0.041373  0.810287  0.018807  0.00  0.0\n",
            "6  0.315275  0.192547  0.058099  0.687184  0.001053  0.00  0.0\n",
            "7  0.155666  0.207298  0.112676  0.708263  0.025584  0.00  0.0\n",
            "8  0.098798  0.214286  0.120599  0.778246  0.034501  0.00  0.0\n",
            "9  0.031012  0.125776  0.121479  0.815346  0.087067  0.00  0.0\n"
          ]
        }
      ],
      "source": [
        "# scaling the data using min-max scaler\n",
        "from sklearn.preprocessing import MinMaxScaler\n",
        "\n",
        "x_columns = ['Pollution', 'Dew', 'Temp', 'Press', 'Wind_spd', 'Snow', 'Rain']\n",
        "y_column = ['Pollution']\n",
        "\n",
        "x_train = train_data[x_columns]\n",
        "y_train = train_data[y_column]\n",
        "x_test = test_data[x_columns]\n",
        "y_test = test_data[y_column]\n",
        "\n",
        "scaler = MinMaxScaler()\n",
        "x_train_scaled = scaler.fit_transform(x_train)\n",
        "x_test_scaled = scaler.transform(x_test)\n",
        "y_train_scaled = scaler.fit_transform(y_train)\n",
        "y_test_scaled = scaler.transform(y_test)\n",
        "\n",
        "print(pd.DataFrame(x_train_scaled).head(10))"
      ]
    },
    {
      "cell_type": "code",
      "execution_count": 16,
      "metadata": {
        "colab": {
          "base_uri": "https://localhost:8080/",
          "height": 363
        },
        "id": "uyh3rHQp0nFb",
        "outputId": "328558d3-8827-4166-b5d3-1599a65ac023"
      },
      "outputs": [
        {
          "name": "stdout",
          "output_type": "stream",
          "text": [
            "          0\n",
            "0  0.260227\n",
            "1  0.138075\n",
            "2  0.051636\n",
            "3  0.071881\n",
            "4  0.097282\n",
            "5  0.120181\n",
            "6  0.315275\n",
            "7  0.155666\n",
            "8  0.098798\n",
            "9  0.031012\n"
          ]
        }
      ],
      "source": [
        "# top 10 instances of y_train\n",
        "\n",
        "print(pd.DataFrame(y_train_scaled).head(10))"
      ]
    },
    {
      "cell_type": "code",
      "execution_count": 17,
      "metadata": {
        "colab": {
          "base_uri": "https://localhost:8080/"
        },
        "id": "LDri4B6VUGnp",
        "outputId": "ea486578-44e2-4323-ad7e-5bb889a69f0a"
      },
      "outputs": [
        {
          "name": "stdout",
          "output_type": "stream",
          "text": [
            "(1453, 7, 7)\n"
          ]
        }
      ],
      "source": [
        "# Shifting data so the past 7 days of data are used to predict the next day's pollution\n",
        "\n",
        "def create_dataset(X, y, time_steps=1):\n",
        "    Xs, ys = [], []\n",
        "    for i in range(len(X) - time_steps):\n",
        "        v = X[i:(i + time_steps)]\n",
        "        Xs.append(v)\n",
        "        ys.append(y[i + time_steps])\n",
        "    return np.array(Xs), np.array(ys)\n",
        "\n",
        "time_steps = 7\n",
        "\n",
        "x_train_shifted, y_train_shifted = create_dataset(x_train_scaled, y_train_scaled, time_steps)\n",
        "print(x_train_shifted.shape)\n"
      ]
    },
    {
      "cell_type": "code",
      "execution_count": 18,
      "metadata": {
        "colab": {
          "base_uri": "https://localhost:8080/"
        },
        "id": "uwG26ecE2DRw",
        "outputId": "a184d2a3-2518-40ee-8f42-99f2300f4ce6"
      },
      "outputs": [
        {
          "name": "stdout",
          "output_type": "stream",
          "text": [
            "(1453, 1)\n"
          ]
        }
      ],
      "source": [
        "print(y_train_shifted.shape)"
      ]
    },
    {
      "cell_type": "code",
      "execution_count": 19,
      "metadata": {
        "colab": {
          "base_uri": "https://localhost:8080/"
        },
        "id": "IGE2-vRnT7Hq",
        "outputId": "e2792f43-f6c7-49c9-bc2a-e8708cbc2654"
      },
      "outputs": [
        {
          "name": "stdout",
          "output_type": "stream",
          "text": [
            "[[0.26022714 0.35326087 0.1971831  0.62141653 0.05062437 0.05\n",
            "  0.        ]\n",
            " [0.13807507 0.32298137 0.125      0.58178752 0.15042465 1.\n",
            "  0.        ]\n",
            " [0.05163598 0.12267081 0.0625     0.71332209 0.23754358 0.\n",
            "  0.        ]\n",
            " [0.07188092 0.05357143 0.         0.8010118  0.12006321 0.\n",
            "  0.        ]\n",
            " [0.09728188 0.06987578 0.04049296 0.80354132 0.03687449 0.\n",
            "  0.        ]\n",
            " [0.12018066 0.11568323 0.04137324 0.81028668 0.01880726 0.\n",
            "  0.        ]\n",
            " [0.31527519 0.19254658 0.05809859 0.68718381 0.00105317 0.\n",
            "  0.        ]]\n"
          ]
        }
      ],
      "source": [
        "print(x_train_shifted[0])"
      ]
    },
    {
      "cell_type": "code",
      "execution_count": 20,
      "metadata": {
        "colab": {
          "base_uri": "https://localhost:8080/"
        },
        "id": "6eI3I7RfWKzB",
        "outputId": "def20437-02db-405f-9ede-277a36a528f9"
      },
      "outputs": [
        {
          "data": {
            "text/plain": [
              "array([0.15566618])"
            ]
          },
          "execution_count": 20,
          "metadata": {},
          "output_type": "execute_result"
        }
      ],
      "source": [
        "y_train_shifted[0]"
      ]
    },
    {
      "cell_type": "markdown",
      "metadata": {
        "id": "3CzLPne7dUGt"
      },
      "source": [
        "# Model"
      ]
    },
    {
      "cell_type": "code",
      "execution_count": 21,
      "metadata": {
        "colab": {
          "base_uri": "https://localhost:8080/"
        },
        "id": "M1VDI_YEdXH1",
        "outputId": "2439c0e5-06cf-4086-ce54-f2fea320c7e2"
      },
      "outputs": [
        {
          "name": "stderr",
          "output_type": "stream",
          "text": [
            "2023-08-19 12:23:27.989115: I tensorflow/core/platform/cpu_feature_guard.cc:193] This TensorFlow binary is optimized with oneAPI Deep Neural Network Library (oneDNN) to use the following CPU instructions in performance-critical operations:  SSE4.1 SSE4.2\n",
            "To enable them in other operations, rebuild TensorFlow with the appropriate compiler flags.\n",
            "2023-08-19 12:23:30.043983: I tensorflow/core/platform/cpu_feature_guard.cc:193] This TensorFlow binary is optimized with oneAPI Deep Neural Network Library (oneDNN) to use the following CPU instructions in performance-critical operations:  SSE4.1 SSE4.2\n",
            "To enable them in other operations, rebuild TensorFlow with the appropriate compiler flags.\n"
          ]
        }
      ],
      "source": [
        "from keras.models import Sequential\n",
        "from keras.layers import GRU, Dense\n",
        "\n",
        "model = Sequential()\n",
        "model.add(GRU(50, return_sequences=True, input_shape=(x_train_shifted.shape[1], x_train_shifted.shape[2])))\n",
        "model.add(GRU(100))\n",
        "model.add(Dense(1))"
      ]
    },
    {
      "cell_type": "code",
      "execution_count": 22,
      "metadata": {
        "colab": {
          "base_uri": "https://localhost:8080/"
        },
        "id": "U9lv41K_eV1e",
        "outputId": "ff18f1d2-d90e-4fd2-9078-530495db29f5"
      },
      "outputs": [],
      "source": [
        "model.compile(optimizer='adam', loss='mse', metrics=['mae'])"
      ]
    },
    {
      "cell_type": "code",
      "execution_count": 23,
      "metadata": {},
      "outputs": [
        {
          "name": "stdout",
          "output_type": "stream",
          "text": [
            "Epoch 1/10\n",
            "82/82 [==============================] - 4s 13ms/step - loss: 0.0232 - mae: 0.1164 - val_loss: 0.0174 - val_mae: 0.1070\n",
            "Epoch 2/10\n",
            "82/82 [==============================] - 1s 6ms/step - loss: 0.0208 - mae: 0.1092 - val_loss: 0.0329 - val_mae: 0.1535\n",
            "Epoch 3/10\n",
            "82/82 [==============================] - 0s 6ms/step - loss: 0.0186 - mae: 0.1012 - val_loss: 0.0157 - val_mae: 0.1031\n",
            "Epoch 4/10\n",
            "82/82 [==============================] - 1s 6ms/step - loss: 0.0145 - mae: 0.0909 - val_loss: 0.0163 - val_mae: 0.1037\n",
            "Epoch 5/10\n",
            "82/82 [==============================] - 0s 6ms/step - loss: 0.0141 - mae: 0.0899 - val_loss: 0.0161 - val_mae: 0.1024\n",
            "Epoch 6/10\n",
            "82/82 [==============================] - 0s 6ms/step - loss: 0.0138 - mae: 0.0887 - val_loss: 0.0157 - val_mae: 0.1006\n",
            "Epoch 7/10\n",
            "82/82 [==============================] - 0s 6ms/step - loss: 0.0136 - mae: 0.0879 - val_loss: 0.0155 - val_mae: 0.0996\n",
            "Epoch 8/10\n",
            "82/82 [==============================] - 0s 5ms/step - loss: 0.0135 - mae: 0.0874 - val_loss: 0.0153 - val_mae: 0.0989\n",
            "Epoch 9/10\n",
            "82/82 [==============================] - 0s 5ms/step - loss: 0.0134 - mae: 0.0870 - val_loss: 0.0152 - val_mae: 0.0983\n",
            "Epoch 10/10\n",
            "82/82 [==============================] - 0s 5ms/step - loss: 0.0133 - mae: 0.0867 - val_loss: 0.0151 - val_mae: 0.0977\n"
          ]
        }
      ],
      "source": [
        "history = model.fit(\n",
        "    x_train_shifted, y_train_shifted,\n",
        "    epochs=10,\n",
        "    batch_size=16,\n",
        "    validation_split=0.1,\n",
        "    shuffle=False\n",
        ")"
      ]
    },
    {
      "cell_type": "markdown",
      "metadata": {
        "id": "xmWwDa-VjXg4"
      },
      "source": [
        "## Performance"
      ]
    },
    {
      "cell_type": "code",
      "execution_count": 24,
      "metadata": {
        "colab": {
          "base_uri": "https://localhost:8080/"
        },
        "id": "9Njjbm4BsNiu",
        "outputId": "cf9924f6-c4b9-499a-cd81-5fce1087f5c2"
      },
      "outputs": [
        {
          "name": "stdout",
          "output_type": "stream",
          "text": [
            "12/12 [==============================] - 0s 2ms/step - loss: 0.0156 - mae: 0.0942\n"
          ]
        }
      ],
      "source": [
        "# Show the performance of the model on the test set\n",
        "x_test_shifted, y_test_shifted = create_dataset(x_test_scaled, y_test_scaled, time_steps)\n",
        "loss, mae = model.evaluate(x_test_shifted, y_test_shifted)"
      ]
    },
    {
      "cell_type": "markdown",
      "metadata": {
        "id": "JYOrQUezjfOt"
      },
      "source": [
        "## Post-analysis"
      ]
    },
    {
      "cell_type": "code",
      "execution_count": 25,
      "metadata": {
        "colab": {
          "base_uri": "https://localhost:8080/",
          "height": 394
        },
        "id": "wJWuaplPdJVH",
        "outputId": "cfd6b93c-4e64-48f7-afb3-db7b0da07c48"
      },
      "outputs": [
        {
          "name": "stdout",
          "output_type": "stream",
          "text": [
            "46/46 [==============================] - 1s 2ms/step\n"
          ]
        },
        {
          "data": {
            "image/png": "[encoded data removed]",
            "text/plain": [
              "<Figure size 640x480 with 1 Axes>"
            ]
          },
          "metadata": {},
          "output_type": "display_data"
        }
      ],
      "source": [
        "train_predictions = model.predict(x_train_shifted)\n",
        "plt.plot(y_train_shifted, color = 'red') #actual\n",
        "plt.plot(train_predictions, color = 'green') #predicted\n",
        "plt.xlabel('Date')\n",
        "plt.ylabel('Pollution')\n",
        "plt.title('Train Data: Actual vs Predicted')\n",
        "plt.legend(['Actual', 'Predicted'])\n",
        "plt.show()\n"
      ]
    },
    {
      "cell_type": "code",
      "execution_count": 26,
      "metadata": {
        "colab": {
          "base_uri": "https://localhost:8080/",
          "height": 394
        },
        "id": "Z-3kZZsuacz9",
        "outputId": "0a977a21-7a9f-48b4-9434-9602d2e64597"
      },
      "outputs": [
        {
          "name": "stdout",
          "output_type": "stream",
          "text": [
            "12/12 [==============================] - 0s 2ms/step\n"
          ]
        },
        {
          "data": {
            "image/png": "[encoded data removed]",
            "text/plain": [
              "<Figure size 640x480 with 1 Axes>"
            ]
          },
          "metadata": {},
          "output_type": "display_data"
        }
      ],
      "source": [
        "test_predictions = model.predict(x_test_shifted)\n",
        "plt.plot(y_test_shifted, color = 'red')\n",
        "plt.plot(test_predictions, color = 'green')\n",
        "plt.xlabel('Date')\n",
        "plt.ylabel('Pollution')\n",
        "plt.title('Test Data: Actual vs Predicted')\n",
        "plt.legend(['Actual', 'Predicted'])\n",
        "plt.show()\n"
      ]
    },
    {
      "cell_type": "code",
      "execution_count": null,
      "metadata": {},
      "outputs": [],
      "source": []
    }
  ],
  "metadata": {
    "accelerator": "GPU",
    "colab": {
      "provenance": []
    },
    "kernelspec": {
      "display_name": "Python 3",
      "name": "python3"
    },
    "language_info": {
      "codemirror_mode": {
        "name": "ipython",
        "version": 3
      },
      "file_extension": ".py",
      "mimetype": "text/x-python",
      "name": "python",
      "nbconvert_exporter": "python",
      "pygments_lexer": "ipython3",
      "version": "3.10.9"
    }
  },
  "nbformat": 4,
  "nbformat_minor": 0
}
