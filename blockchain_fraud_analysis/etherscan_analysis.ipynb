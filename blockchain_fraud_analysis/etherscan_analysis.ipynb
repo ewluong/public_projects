{
 "cells": [
  {
   "cell_type": "markdown",
   "metadata": {},
   "source": [
    "# Analysis of Etherscan Data for Anomalies"
   ]
  },
  {
   "cell_type": "code",
   "execution_count": 36,
   "metadata": {},
   "outputs": [],
   "source": [
    "#!pip install requests"
   ]
  },
  {
   "cell_type": "code",
   "execution_count": 1,
   "metadata": {},
   "outputs": [],
   "source": [
    "# import requests\n",
    "# import json\n",
    "\n",
    "# api_key = 'JY98M77S59RTEPAZFQHH8Y9ETUQG7624ID'  # Replace with your actual API key\n",
    "# pond_token_address = '0x423f4e6138E475D85CF7Ea071AC92097Ed631eea'\n",
    "\n",
    "# # Etherscan API endpoint for ERC20 token transfer events\n",
    "# offset = 1000  # Reduce the number of records fetched in one request\n",
    "# url = f\"https://api.etherscan.io/api?module=account&action=tokentx&contractaddress={pond_token_address}&startblock=0&endblock=99999999&page=1&offset={offset}&sort=asc&apikey={api_key}\"\n",
    "\n",
    "# response = requests.get(url)\n",
    "# data = json.loads(response.text)\n",
    "\n",
    "# # Check if the request was successful\n",
    "# if response.status_code == 200 and data['status'] == '1':\n",
    "#     transfer_events = data['result']\n",
    "# else:\n",
    "#     print(\"Error fetching data:\", data['message'])\n"
   ]
  },
  {
   "cell_type": "code",
   "execution_count": 2,
   "metadata": {},
   "outputs": [],
   "source": [
    "import pandas as pd\n",
    "\n",
    "df_transfers = pd.DataFrame(transfer_events)\n",
    "df_transfers.to_csv('pond_token_transfers.csv', index=False)\n"
   ]
  },
  {
   "cell_type": "code",
   "execution_count": 3,
   "metadata": {},
   "outputs": [],
   "source": [
    "df_transfers = pd.read_csv('pond_token_transfers.csv')"
   ]
  },
  {
   "cell_type": "code",
   "execution_count": 7,
   "metadata": {},
   "outputs": [
    {
     "data": {
      "text/html": [
       "<div>\n",
       "<style scoped>\n",
       "    .dataframe tbody tr th:only-of-type {\n",
       "        vertical-align: middle;\n",
       "    }\n",
       "\n",
       "    .dataframe tbody tr th {\n",
       "        vertical-align: top;\n",
       "    }\n",
       "\n",
       "    .dataframe thead th {\n",
       "        text-align: right;\n",
       "    }\n",
       "</style>\n",
       "<table border=\"1\" class=\"dataframe\">\n",
       "  <thead>\n",
       "    <tr style=\"text-align: right;\">\n",
       "      <th></th>\n",
       "      <th>blockNumber</th>\n",
       "      <th>hash</th>\n",
       "      <th>nonce</th>\n",
       "      <th>blockHash</th>\n",
       "      <th>from</th>\n",
       "      <th>contractAddress</th>\n",
       "      <th>to</th>\n",
       "      <th>value</th>\n",
       "      <th>tokenName</th>\n",
       "      <th>tokenSymbol</th>\n",
       "      <th>tokenDecimal</th>\n",
       "      <th>transactionIndex</th>\n",
       "      <th>gas</th>\n",
       "      <th>gasPrice</th>\n",
       "      <th>gasUsed</th>\n",
       "      <th>cumulativeGasUsed</th>\n",
       "      <th>input</th>\n",
       "      <th>confirmations</th>\n",
       "    </tr>\n",
       "    <tr>\n",
       "      <th>timeStamp</th>\n",
       "      <th></th>\n",
       "      <th></th>\n",
       "      <th></th>\n",
       "      <th></th>\n",
       "      <th></th>\n",
       "      <th></th>\n",
       "      <th></th>\n",
       "      <th></th>\n",
       "      <th></th>\n",
       "      <th></th>\n",
       "      <th></th>\n",
       "      <th></th>\n",
       "      <th></th>\n",
       "      <th></th>\n",
       "      <th></th>\n",
       "      <th></th>\n",
       "      <th></th>\n",
       "      <th></th>\n",
       "    </tr>\n",
       "  </thead>\n",
       "  <tbody>\n",
       "    <tr>\n",
       "      <th>2023-08-04 20:39:59</th>\n",
       "      <td>17844056</td>\n",
       "      <td>0x8dbfcac996b9b96da0b17ada3b7e59b5159717a0c2ec...</td>\n",
       "      <td>0</td>\n",
       "      <td>0x85f0eabc911d39f16b544c5e053650316ad40e085a3f...</td>\n",
       "      <td>0x0000000000000000000000000000000000000000</td>\n",
       "      <td>0x423f4e6138e475d85cf7ea071ac92097ed631eea</td>\n",
       "      <td>0xc687f96d50f70e20bd2c038901bf13a6c5e6d78e</td>\n",
       "      <td>1.000000e+27</td>\n",
       "      <td>Pond Coin</td>\n",
       "      <td>PNDC</td>\n",
       "      <td>18</td>\n",
       "      <td>110</td>\n",
       "      <td>2185859</td>\n",
       "      <td>21086474497</td>\n",
       "      <td>2185859</td>\n",
       "      <td>11550352</td>\n",
       "      <td>deprecated</td>\n",
       "      <td>700582</td>\n",
       "    </tr>\n",
       "    <tr>\n",
       "      <th>2023-08-04 20:48:11</th>\n",
       "      <td>17844096</td>\n",
       "      <td>0x2260a53efeed48e5960bc4b3a00d06881e6bb814c4fb...</td>\n",
       "      <td>2</td>\n",
       "      <td>0xc31f63b30c1fd67f9816352a25c0310773c603ba4f1d...</td>\n",
       "      <td>0xc687f96d50f70e20bd2c038901bf13a6c5e6d78e</td>\n",
       "      <td>0x423f4e6138e475d85cf7ea071ac92097ed631eea</td>\n",
       "      <td>0xa06591252908576a0f64a8560ec0c8051782377c</td>\n",
       "      <td>2.998094e+23</td>\n",
       "      <td>Pond Coin</td>\n",
       "      <td>PNDC</td>\n",
       "      <td>18</td>\n",
       "      <td>166</td>\n",
       "      <td>6301118</td>\n",
       "      <td>25482292310</td>\n",
       "      <td>5165012</td>\n",
       "      <td>21821254</td>\n",
       "      <td>deprecated</td>\n",
       "      <td>700542</td>\n",
       "    </tr>\n",
       "    <tr>\n",
       "      <th>2023-08-04 20:49:47</th>\n",
       "      <td>17844104</td>\n",
       "      <td>0x3f4ecd35adda757e55e3787d0e757cca9eb5680727ae...</td>\n",
       "      <td>3</td>\n",
       "      <td>0xe4898ac17c7af3367c83ae30f1e0456b4f3cfb0af117...</td>\n",
       "      <td>0xc687f96d50f70e20bd2c038901bf13a6c5e6d78e</td>\n",
       "      <td>0x423f4e6138e475d85cf7ea071ac92097ed631eea</td>\n",
       "      <td>0xa06591252908576a0f64a8560ec0c8051782377c</td>\n",
       "      <td>1.998729e+23</td>\n",
       "      <td>Pond Coin</td>\n",
       "      <td>PNDC</td>\n",
       "      <td>18</td>\n",
       "      <td>75</td>\n",
       "      <td>240892</td>\n",
       "      <td>25543235606</td>\n",
       "      <td>177454</td>\n",
       "      <td>9044105</td>\n",
       "      <td>deprecated</td>\n",
       "      <td>700534</td>\n",
       "    </tr>\n",
       "    <tr>\n",
       "      <th>2023-08-04 20:51:11</th>\n",
       "      <td>17844111</td>\n",
       "      <td>0x8623d36f870449953ae8e34de2a41b558ad67f429f30...</td>\n",
       "      <td>10698</td>\n",
       "      <td>0xf8fe7d173bf964b299bdfdbe9783e075066a6f9842d9...</td>\n",
       "      <td>0xa06591252908576a0f64a8560ec0c8051782377c</td>\n",
       "      <td>0x423f4e6138e475d85cf7ea071ac92097ed631eea</td>\n",
       "      <td>0x5ca887615098c6b7409f18502f57538205c768d9</td>\n",
       "      <td>4.715752e+23</td>\n",
       "      <td>Pond Coin</td>\n",
       "      <td>PNDC</td>\n",
       "      <td>18</td>\n",
       "      <td>4</td>\n",
       "      <td>333767</td>\n",
       "      <td>58682479746</td>\n",
       "      <td>176256</td>\n",
       "      <td>1424824</td>\n",
       "      <td>deprecated</td>\n",
       "      <td>700527</td>\n",
       "    </tr>\n",
       "    <tr>\n",
       "      <th>2023-08-04 20:51:23</th>\n",
       "      <td>17844112</td>\n",
       "      <td>0xde15905767b891d3711de3c4fac505eadd5ddaae92ed...</td>\n",
       "      <td>10699</td>\n",
       "      <td>0xf1190cb853d4d021165e2bc82d5bb95105236837960f...</td>\n",
       "      <td>0xa06591252908576a0f64a8560ec0c8051782377c</td>\n",
       "      <td>0x423f4e6138e475d85cf7ea071ac92097ed631eea</td>\n",
       "      <td>0x5ca887615098c6b7409f18502f57538205c768d9</td>\n",
       "      <td>2.810713e+22</td>\n",
       "      <td>Pond Coin</td>\n",
       "      <td>PNDC</td>\n",
       "      <td>18</td>\n",
       "      <td>6</td>\n",
       "      <td>1027247</td>\n",
       "      <td>59167499934</td>\n",
       "      <td>635239</td>\n",
       "      <td>1653878</td>\n",
       "      <td>deprecated</td>\n",
       "      <td>700526</td>\n",
       "    </tr>\n",
       "  </tbody>\n",
       "</table>\n",
       "</div>"
      ],
      "text/plain": [
       "                     blockNumber  \\\n",
       "timeStamp                          \n",
       "2023-08-04 20:39:59     17844056   \n",
       "2023-08-04 20:48:11     17844096   \n",
       "2023-08-04 20:49:47     17844104   \n",
       "2023-08-04 20:51:11     17844111   \n",
       "2023-08-04 20:51:23     17844112   \n",
       "\n",
       "                                                                  hash  nonce  \\\n",
       "timeStamp                                                                       \n",
       "2023-08-04 20:39:59  0x8dbfcac996b9b96da0b17ada3b7e59b5159717a0c2ec...      0   \n",
       "2023-08-04 20:48:11  0x2260a53efeed48e5960bc4b3a00d06881e6bb814c4fb...      2   \n",
       "2023-08-04 20:49:47  0x3f4ecd35adda757e55e3787d0e757cca9eb5680727ae...      3   \n",
       "2023-08-04 20:51:11  0x8623d36f870449953ae8e34de2a41b558ad67f429f30...  10698   \n",
       "2023-08-04 20:51:23  0xde15905767b891d3711de3c4fac505eadd5ddaae92ed...  10699   \n",
       "\n",
       "                                                             blockHash  \\\n",
       "timeStamp                                                                \n",
       "2023-08-04 20:39:59  0x85f0eabc911d39f16b544c5e053650316ad40e085a3f...   \n",
       "2023-08-04 20:48:11  0xc31f63b30c1fd67f9816352a25c0310773c603ba4f1d...   \n",
       "2023-08-04 20:49:47  0xe4898ac17c7af3367c83ae30f1e0456b4f3cfb0af117...   \n",
       "2023-08-04 20:51:11  0xf8fe7d173bf964b299bdfdbe9783e075066a6f9842d9...   \n",
       "2023-08-04 20:51:23  0xf1190cb853d4d021165e2bc82d5bb95105236837960f...   \n",
       "\n",
       "                                                           from  \\\n",
       "timeStamp                                                         \n",
       "2023-08-04 20:39:59  0x0000000000000000000000000000000000000000   \n",
       "2023-08-04 20:48:11  0xc687f96d50f70e20bd2c038901bf13a6c5e6d78e   \n",
       "2023-08-04 20:49:47  0xc687f96d50f70e20bd2c038901bf13a6c5e6d78e   \n",
       "2023-08-04 20:51:11  0xa06591252908576a0f64a8560ec0c8051782377c   \n",
       "2023-08-04 20:51:23  0xa06591252908576a0f64a8560ec0c8051782377c   \n",
       "\n",
       "                                                contractAddress  \\\n",
       "timeStamp                                                         \n",
       "2023-08-04 20:39:59  0x423f4e6138e475d85cf7ea071ac92097ed631eea   \n",
       "2023-08-04 20:48:11  0x423f4e6138e475d85cf7ea071ac92097ed631eea   \n",
       "2023-08-04 20:49:47  0x423f4e6138e475d85cf7ea071ac92097ed631eea   \n",
       "2023-08-04 20:51:11  0x423f4e6138e475d85cf7ea071ac92097ed631eea   \n",
       "2023-08-04 20:51:23  0x423f4e6138e475d85cf7ea071ac92097ed631eea   \n",
       "\n",
       "                                                             to         value  \\\n",
       "timeStamp                                                                       \n",
       "2023-08-04 20:39:59  0xc687f96d50f70e20bd2c038901bf13a6c5e6d78e  1.000000e+27   \n",
       "2023-08-04 20:48:11  0xa06591252908576a0f64a8560ec0c8051782377c  2.998094e+23   \n",
       "2023-08-04 20:49:47  0xa06591252908576a0f64a8560ec0c8051782377c  1.998729e+23   \n",
       "2023-08-04 20:51:11  0x5ca887615098c6b7409f18502f57538205c768d9  4.715752e+23   \n",
       "2023-08-04 20:51:23  0x5ca887615098c6b7409f18502f57538205c768d9  2.810713e+22   \n",
       "\n",
       "                     tokenName tokenSymbol  tokenDecimal  transactionIndex  \\\n",
       "timeStamp                                                                    \n",
       "2023-08-04 20:39:59  Pond Coin        PNDC            18               110   \n",
       "2023-08-04 20:48:11  Pond Coin        PNDC            18               166   \n",
       "2023-08-04 20:49:47  Pond Coin        PNDC            18                75   \n",
       "2023-08-04 20:51:11  Pond Coin        PNDC            18                 4   \n",
       "2023-08-04 20:51:23  Pond Coin        PNDC            18                 6   \n",
       "\n",
       "                         gas     gasPrice  gasUsed  cumulativeGasUsed  \\\n",
       "timeStamp                                                               \n",
       "2023-08-04 20:39:59  2185859  21086474497  2185859           11550352   \n",
       "2023-08-04 20:48:11  6301118  25482292310  5165012           21821254   \n",
       "2023-08-04 20:49:47   240892  25543235606   177454            9044105   \n",
       "2023-08-04 20:51:11   333767  58682479746   176256            1424824   \n",
       "2023-08-04 20:51:23  1027247  59167499934   635239            1653878   \n",
       "\n",
       "                          input  confirmations  \n",
       "timeStamp                                       \n",
       "2023-08-04 20:39:59  deprecated         700582  \n",
       "2023-08-04 20:48:11  deprecated         700542  \n",
       "2023-08-04 20:49:47  deprecated         700534  \n",
       "2023-08-04 20:51:11  deprecated         700527  \n",
       "2023-08-04 20:51:23  deprecated         700526  "
      ]
     },
     "execution_count": 7,
     "metadata": {},
     "output_type": "execute_result"
    }
   ],
   "source": [
    "df_transfers.head()"
   ]
  },
  {
   "cell_type": "code",
   "execution_count": 5,
   "metadata": {},
   "outputs": [
    {
     "name": "stdout",
     "output_type": "stream",
     "text": [
      "        blockNumber     timeStamp         nonce         value  tokenDecimal  \\\n",
      "count  1.000000e+03  1.000000e+03  1.000000e+03  1.000000e+03        1000.0   \n",
      "mean   1.784508e+07  1.691194e+09  8.457307e+04  3.670325e+27          18.0   \n",
      "std    1.325280e+02  1.600947e+03  2.784849e+05  7.846428e+27           0.0   \n",
      "min    1.784406e+07  1.691182e+09  0.000000e+00  1.686581e+15          18.0   \n",
      "25%    1.784503e+07  1.691193e+09  9.400000e+01  6.426384e+23          18.0   \n",
      "50%    1.784509e+07  1.691194e+09  3.870000e+02  5.507138e+25          18.0   \n",
      "75%    1.784515e+07  1.691195e+09  2.935750e+03  2.754843e+27          18.0   \n",
      "max    1.784523e+07  1.691196e+09  1.057060e+06  7.146399e+28          18.0   \n",
      "\n",
      "       transactionIndex           gas      gasPrice       gasUsed  \\\n",
      "count       1000.000000  1.000000e+03  1.000000e+03  1.000000e+03   \n",
      "mean          68.109000  3.152487e+05  2.130443e+10  1.850443e+05   \n",
      "std           62.742934  5.026088e+05  3.377488e+10  3.466468e+05   \n",
      "min            0.000000  5.142400e+04  1.151727e+10  2.953100e+04   \n",
      "25%            9.000000  1.585780e+05  1.305283e+10  1.007540e+05   \n",
      "50%           70.000000  1.612585e+05  1.390376e+10  1.086420e+05   \n",
      "75%          100.250000  2.960725e+05  1.620973e+10  1.895982e+05   \n",
      "max          521.000000  6.301118e+06  5.128229e+11  5.165012e+06   \n",
      "\n",
      "       cumulativeGasUsed  confirmations  \n",
      "count       1.000000e+03    1000.000000  \n",
      "mean        7.663652e+06  699560.464000  \n",
      "std         6.529995e+06     132.527953  \n",
      "min         9.999100e+04  699408.000000  \n",
      "25%         1.803354e+06  699484.000000  \n",
      "50%         7.109212e+06  699551.500000  \n",
      "75%         1.077591e+07  699607.000000  \n",
      "max         2.983097e+07  700582.000000  \n"
     ]
    }
   ],
   "source": [
    "df_transfers['value'] = df_transfers['value'].astype(float)\n",
    "print(df_transfers.describe())"
   ]
  },
  {
   "cell_type": "code",
   "execution_count": 8,
   "metadata": {},
   "outputs": [
    {
     "data": {
      "image/png": "[encoded data removed]",
      "text/plain": [
       "<Figure size 864x864 with 1 Axes>"
      ]
     },
     "metadata": {},
     "output_type": "display_data"
    }
   ],
   "source": [
    "# Network Analysis\n",
    "\n",
    "import networkx as nx\n",
    "\n",
    "import matplotlib.pyplot as plt\n",
    "\n",
    "# Create network graph\n",
    "\n",
    "G = nx.Graph()\n",
    "\n",
    "for _, row in df_transfers.iterrows():\n",
    "    G.add_edge(row['from'], row['to'], weight=row['value'])\n",
    "\n",
    "# Visualize the network\n",
    "plt.figure(figsize = (12, 12))\n",
    "nx.draw_networkx(G, with_labels = False, node_size = 20, width = 0.1)\n",
    "plt.show()\n"
   ]
  },
  {
   "cell_type": "code",
   "execution_count": 11,
   "metadata": {},
   "outputs": [],
   "source": [
    "# Cluster Analysis\n",
    "\n",
    "from sklearn.preprocessing import StandardScaler\n",
    "from sklearn.cluster import KMeans\n",
    "\n",
    "# Standardize the data\n",
    "\n",
    "df_features = df_transfers[['value']]\n",
    "scaler = StandardScaler()\n",
    "df_features_scaled = scaler.fit_transform(df_features)"
   ]
  },
  {
   "cell_type": "code",
   "execution_count": 13,
   "metadata": {},
   "outputs": [],
   "source": [
    "# KMeans\n",
    "\n",
    "kmeans = KMeans(n_clusters = 5, random_state = 0).fit(df_features_scaled)\n",
    "\n",
    "df_transfers['cluster'] = kmeans.labels_"
   ]
  },
  {
   "cell_type": "code",
   "execution_count": 21,
   "metadata": {},
   "outputs": [
    {
     "data": {
      "image/png": "[encoded data removed]",
      "text/plain": [
       "<Figure size 720x576 with 2 Axes>"
      ]
     },
     "metadata": {
      "needs_background": "light"
     },
     "output_type": "display_data"
    }
   ],
   "source": [
    "import matplotlib.pyplot as plt\n",
    "\n",
    "# Create a scatter plot\n",
    "plt.figure(figsize=(10, 8))\n",
    "plt.scatter(df_transfers['value'], [0] * len(df_transfers), c=df_transfers['cluster'], cmap='viridis', marker='o')\n",
    "plt.title('KMeans Clusters Visualization')\n",
    "plt.xlabel('Transaction Value (Scaled)')\n",
    "plt.yticks([])  # No meaningful y-axis values\n",
    "plt.colorbar(label='Cluster')\n",
    "plt.show()\n"
   ]
  },
  {
   "cell_type": "code",
   "execution_count": 23,
   "metadata": {},
   "outputs": [
    {
     "name": "stderr",
     "output_type": "stream",
     "text": [
      "/var/folders/42/0ktpxb410cg701991z265xdw0000gn/T/ipykernel_92012/312739379.py:12: SettingWithCopyWarning: \n",
      "A value is trying to be set on a copy of a slice from a DataFrame.\n",
      "Try using .loc[row_indexer,col_indexer] = value instead\n",
      "\n",
      "See the caveats in the documentation: https://pandas.pydata.org/pandas-docs/stable/user_guide/indexing.html#returning-a-view-versus-a-copy\n",
      "  df_features['value'] = pd.to_numeric(df_features['value'], errors='coerce')\n",
      "/var/folders/42/0ktpxb410cg701991z265xdw0000gn/T/ipykernel_92012/312739379.py:13: SettingWithCopyWarning: \n",
      "A value is trying to be set on a copy of a slice from a DataFrame.\n",
      "Try using .loc[row_indexer,col_indexer] = value instead\n",
      "\n",
      "See the caveats in the documentation: https://pandas.pydata.org/pandas-docs/stable/user_guide/indexing.html#returning-a-view-versus-a-copy\n",
      "  df_features['gas'] = pd.to_numeric(df_features['gas'], errors='coerce')\n",
      "/var/folders/42/0ktpxb410cg701991z265xdw0000gn/T/ipykernel_92012/312739379.py:14: SettingWithCopyWarning: \n",
      "A value is trying to be set on a copy of a slice from a DataFrame.\n",
      "Try using .loc[row_indexer,col_indexer] = value instead\n",
      "\n",
      "See the caveats in the documentation: https://pandas.pydata.org/pandas-docs/stable/user_guide/indexing.html#returning-a-view-versus-a-copy\n",
      "  df_features['gasPrice'] = pd.to_numeric(df_features['gasPrice'], errors='coerce')\n",
      "/var/folders/42/0ktpxb410cg701991z265xdw0000gn/T/ipykernel_92012/312739379.py:15: SettingWithCopyWarning: \n",
      "A value is trying to be set on a copy of a slice from a DataFrame.\n",
      "Try using .loc[row_indexer,col_indexer] = value instead\n",
      "\n",
      "See the caveats in the documentation: https://pandas.pydata.org/pandas-docs/stable/user_guide/indexing.html#returning-a-view-versus-a-copy\n",
      "  df_features['gasUsed'] = pd.to_numeric(df_features['gasUsed'], errors='coerce')\n"
     ]
    }
   ],
   "source": [
    "# Isolation Forest\n",
    "\n",
    "import pandas as pd\n",
    "from sklearn.ensemble import IsolationForest\n",
    "import numpy as np\n",
    "import plotly.express as px\n",
    "\n",
    "# Assuming 'value', 'gas', 'gasPrice', and 'gasUsed' are the columns you want to analyze\n",
    "features = ['value', 'gas', 'gasPrice', 'gasUsed']\n",
    "df_features = df_transfers[features]\n",
    "\n",
    "# Convert to appropriate data types if necessary\n",
    "df_features['value'] = pd.to_numeric(df_features['value'], errors='coerce')\n",
    "df_features['gas'] = pd.to_numeric(df_features['gas'], errors='coerce')\n",
    "df_features['gasPrice'] = pd.to_numeric(df_features['gasPrice'], errors='coerce')\n",
    "df_features['gasUsed'] = pd.to_numeric(df_features['gasUsed'], errors='coerce')\n",
    "\n",
    "# Drop rows with missing or infinite values\n",
    "df_features = df_features.replace([np.inf, -np.inf], np.nan).dropna()\n"
   ]
  },
  {
   "cell_type": "code",
   "execution_count": 24,
   "metadata": {},
   "outputs": [
    {
     "name": "stderr",
     "output_type": "stream",
     "text": [
      "/Users/ericluong/opt/anaconda3/lib/python3.9/site-packages/sklearn/base.py:450: UserWarning: X does not have valid feature names, but IsolationForest was fitted with feature names\n",
      "  warnings.warn(\n"
     ]
    }
   ],
   "source": [
    "# Initialize Isolation Forest and fit to df_features\n",
    "iso_forest = IsolationForest(n_estimators=100, contamination=0.01, random_state=0)\n",
    "df_features['anomaly'] = iso_forest.fit_predict(df_features)\n",
    "\n",
    "# Anomalies are marked as -1, normal transactions as 1\n",
    "df_features['anomaly'] = df_features['anomaly'].map({1: 0, -1: 1})"
   ]
  },
  {
   "cell_type": "code",
   "execution_count": 25,
   "metadata": {},
   "outputs": [
    {
     "name": "stdout",
     "output_type": "stream",
     "text": [
      "Number of anomalies: 10\n",
      "                     blockNumber  \\\n",
      "timeStamp                          \n",
      "2023-08-04 20:39:59     17844056   \n",
      "2023-08-04 20:48:11     17844096   \n",
      "2023-08-04 23:35:11     17844929   \n",
      "2023-08-04 23:39:47     17844952   \n",
      "2023-08-04 23:41:23     17844959   \n",
      "2023-08-04 23:44:23     17844974   \n",
      "2023-08-04 23:48:23     17844994   \n",
      "2023-08-05 00:30:35     17845203   \n",
      "2023-08-05 00:33:59     17845220   \n",
      "2023-08-05 00:34:23     17845222   \n",
      "\n",
      "                                                                  hash  \\\n",
      "timeStamp                                                                \n",
      "2023-08-04 20:39:59  0x8dbfcac996b9b96da0b17ada3b7e59b5159717a0c2ec...   \n",
      "2023-08-04 20:48:11  0x2260a53efeed48e5960bc4b3a00d06881e6bb814c4fb...   \n",
      "2023-08-04 23:35:11  0xb20681cb95261c5f3581c50c596c4c3ac648cdc00ce3...   \n",
      "2023-08-04 23:39:47  0xd166a2e24028de791f0d6d84366fca5db7927c45641c...   \n",
      "2023-08-04 23:41:23  0x7f1dbc77ea6ce97139d7dfe97c8016b347f2b4c9b403...   \n",
      "2023-08-04 23:44:23  0xda88322727ef3c523aaad89276e2bd39cee3f17a7228...   \n",
      "2023-08-04 23:48:23  0x0c05eeb946fef7fa5ca789f3e0022dc8935879de2a1e...   \n",
      "2023-08-05 00:30:35  0x2c4f07e7f607d9d757465736b970b37def653cd56089...   \n",
      "2023-08-05 00:33:59  0x54618be0b4985072b257a662a267aa671b3121715ab7...   \n",
      "2023-08-05 00:34:23  0x2b467ead11b4dcbdfff9ab886870ad0fc5c473dcb4cd...   \n",
      "\n",
      "                       nonce  \\\n",
      "timeStamp                      \n",
      "2023-08-04 20:39:59        0   \n",
      "2023-08-04 20:48:11        2   \n",
      "2023-08-04 23:35:11       96   \n",
      "2023-08-04 23:39:47  1056775   \n",
      "2023-08-04 23:41:23      404   \n",
      "2023-08-04 23:44:23      561   \n",
      "2023-08-04 23:48:23      406   \n",
      "2023-08-05 00:30:35  1057044   \n",
      "2023-08-05 00:33:59  1057060   \n",
      "2023-08-05 00:34:23        7   \n",
      "\n",
      "                                                             blockHash  \\\n",
      "timeStamp                                                                \n",
      "2023-08-04 20:39:59  0x85f0eabc911d39f16b544c5e053650316ad40e085a3f...   \n",
      "2023-08-04 20:48:11  0xc31f63b30c1fd67f9816352a25c0310773c603ba4f1d...   \n",
      "2023-08-04 23:35:11  0x008b38421d2cf8c5d9bb258326bf4db50c1eddab4e9c...   \n",
      "2023-08-04 23:39:47  0x45000af3b984f16ae9ee75d1e280bba37055acb32994...   \n",
      "2023-08-04 23:41:23  0x02ad48fa3c748ba3775ec2501339985d46a4be99bbb8...   \n",
      "2023-08-04 23:44:23  0x9e14fd39949dd64d754182b729793194d1d579fa13f4...   \n",
      "2023-08-04 23:48:23  0xdf8b93f2611b0777ef47844665fd05971f239daca7c1...   \n",
      "2023-08-05 00:30:35  0x420562e2cfe19c0016c4ef38db40b111241170792f85...   \n",
      "2023-08-05 00:33:59  0x2262ff65b72ed8869622eed42384f52ad7a66603ec80...   \n",
      "2023-08-05 00:34:23  0x0841a0011bada633ec2560860dc63ef3499bc252bd6c...   \n",
      "\n",
      "                                                           from  \\\n",
      "timeStamp                                                         \n",
      "2023-08-04 20:39:59  0x0000000000000000000000000000000000000000   \n",
      "2023-08-04 20:48:11  0xc687f96d50f70e20bd2c038901bf13a6c5e6d78e   \n",
      "2023-08-04 23:35:11  0x675fb8c954ac3be7b464c67fe5c4bee16ca899a8   \n",
      "2023-08-04 23:39:47  0x6b75d8af000000e20b7a7ddf000ba900b4009a80   \n",
      "2023-08-04 23:41:23  0xa17b91bddce741528fddf8e5738a767b3053ac18   \n",
      "2023-08-04 23:44:23  0x97ebd2c60b4a689f686543b45ff70ced0c043c6f   \n",
      "2023-08-04 23:48:23  0xa17b91bddce741528fddf8e5738a767b3053ac18   \n",
      "2023-08-05 00:30:35  0x6b75d8af000000e20b7a7ddf000ba900b4009a80   \n",
      "2023-08-05 00:33:59  0x6b75d8af000000e20b7a7ddf000ba900b4009a80   \n",
      "2023-08-05 00:34:23  0xa0eaf0758332a3c1e63ea32fd9d88d15c147776a   \n",
      "\n",
      "                                                contractAddress  \\\n",
      "timeStamp                                                         \n",
      "2023-08-04 20:39:59  0x423f4e6138e475d85cf7ea071ac92097ed631eea   \n",
      "2023-08-04 20:48:11  0x423f4e6138e475d85cf7ea071ac92097ed631eea   \n",
      "2023-08-04 23:35:11  0x423f4e6138e475d85cf7ea071ac92097ed631eea   \n",
      "2023-08-04 23:39:47  0x423f4e6138e475d85cf7ea071ac92097ed631eea   \n",
      "2023-08-04 23:41:23  0x423f4e6138e475d85cf7ea071ac92097ed631eea   \n",
      "2023-08-04 23:44:23  0x423f4e6138e475d85cf7ea071ac92097ed631eea   \n",
      "2023-08-04 23:48:23  0x423f4e6138e475d85cf7ea071ac92097ed631eea   \n",
      "2023-08-05 00:30:35  0x423f4e6138e475d85cf7ea071ac92097ed631eea   \n",
      "2023-08-05 00:33:59  0x423f4e6138e475d85cf7ea071ac92097ed631eea   \n",
      "2023-08-05 00:34:23  0x423f4e6138e475d85cf7ea071ac92097ed631eea   \n",
      "\n",
      "                                                             to         value  \\\n",
      "timeStamp                                                                       \n",
      "2023-08-04 20:39:59  0xc687f96d50f70e20bd2c038901bf13a6c5e6d78e  1.000000e+27   \n",
      "2023-08-04 20:48:11  0xa06591252908576a0f64a8560ec0c8051782377c  2.998094e+23   \n",
      "2023-08-04 23:35:11  0xa06591252908576a0f64a8560ec0c8051782377c  4.181179e+23   \n",
      "2023-08-04 23:39:47  0xa06591252908576a0f64a8560ec0c8051782377c  3.044666e+23   \n",
      "2023-08-04 23:41:23  0x4db7b7faa22bb17c52880044ff2346915ea46c1c  3.914459e+23   \n",
      "2023-08-04 23:44:23  0x27b82b91c6583fe1a830b4a0620eca4027492a61  3.188113e+22   \n",
      "2023-08-04 23:48:23  0x58218b6335e4086583041994983ab30c848bc370  3.288052e+24   \n",
      "2023-08-05 00:30:35  0xa06591252908576a0f64a8560ec0c8051782377c  2.181024e+25   \n",
      "2023-08-05 00:33:59  0xa06591252908576a0f64a8560ec0c8051782377c  5.859393e+24   \n",
      "2023-08-05 00:34:23  0xc64350c0eab6faed8f17cc2cdff0761c53fb4152  1.000000e+28   \n",
      "\n",
      "                     tokenName tokenSymbol  tokenDecimal  transactionIndex  \\\n",
      "timeStamp                                                                    \n",
      "2023-08-04 20:39:59  Pond Coin        PNDC            18               110   \n",
      "2023-08-04 20:48:11  Pond Coin        PNDC            18               166   \n",
      "2023-08-04 23:35:11  Pond Coin        PNDC            18                 0   \n",
      "2023-08-04 23:39:47  Pond Coin        PNDC            18                 7   \n",
      "2023-08-04 23:41:23  Pond Coin        PNDC            18                31   \n",
      "2023-08-04 23:44:23  Pond Coin        PNDC            18                 0   \n",
      "2023-08-04 23:48:23  Pond Coin        PNDC            18                39   \n",
      "2023-08-05 00:30:35  Pond Coin        PNDC            18                 5   \n",
      "2023-08-05 00:33:59  Pond Coin        PNDC            18                 4   \n",
      "2023-08-05 00:34:23  Pond Coin        PNDC            18                45   \n",
      "\n",
      "                         gas      gasPrice  gasUsed  cumulativeGasUsed  \\\n",
      "timeStamp                                                                \n",
      "2023-08-04 20:39:59  2185859   21086474497  2185859           11550352   \n",
      "2023-08-04 20:48:11  6301118   25482292310  5165012           21821254   \n",
      "2023-08-04 23:35:11  1323672  224314676458   525402             525402   \n",
      "2023-08-04 23:39:47   414504  314269337074   290153            1795084   \n",
      "2023-08-04 23:41:23  6222498   15768422803  5119241            9552365   \n",
      "2023-08-04 23:44:23  3299991   13322794641  2698728            2698728   \n",
      "2023-08-04 23:48:23  6265971   14809716734  5154905            9071255   \n",
      "2023-08-05 00:30:35   326807  512196190119   228765            1591039   \n",
      "2023-08-05 00:33:59   244832  512822899866   171383             783814   \n",
      "2023-08-05 00:34:23  6190262   20333691605  5092799            8793277   \n",
      "\n",
      "                          input  confirmations  cluster  \n",
      "timeStamp                                                \n",
      "2023-08-04 20:39:59  deprecated         700582        4  \n",
      "2023-08-04 20:48:11  deprecated         700542        4  \n",
      "2023-08-04 23:35:11  deprecated         699709        4  \n",
      "2023-08-04 23:39:47  deprecated         699686        4  \n",
      "2023-08-04 23:41:23  deprecated         699679        4  \n",
      "2023-08-04 23:44:23  deprecated         699664        4  \n",
      "2023-08-04 23:48:23  deprecated         699644        4  \n",
      "2023-08-05 00:30:35  deprecated         699435        4  \n",
      "2023-08-05 00:33:59  deprecated         699418        4  \n",
      "2023-08-05 00:34:23  deprecated         699416        2  \n"
     ]
    }
   ],
   "source": [
    "print(\"Number of anomalies:\", df_features['anomaly'].sum())\n",
    "\n",
    "# Display anomalous transactions\n",
    "anomalous_transactions = df_transfers[df_features['anomaly'] == 1]\n",
    "print(anomalous_transactions)\n"
   ]
  },
  {
   "cell_type": "code",
   "execution_count": 32,
   "metadata": {},
   "outputs": [
    {
     "data": {
      "application/vnd.plotly.v1+json": {
       "config": {
        "plotlyServerURL": "https://plot.ly"
       },
       "data": [
        {
         "customdata": [
          [
           "0x0000000000000000000000000000000000000000",
           "0xc687f96d50f70e20bd2c038901bf13a6c5e6d78e"
          ],
          [
           "0xc687f96d50f70e20bd2c038901bf13a6c5e6d78e",
           "0xa06591252908576a0f64a8560ec0c8051782377c"
          ],
          [
           "0x675fb8c954ac3be7b464c67fe5c4bee16ca899a8",
           "0xa06591252908576a0f64a8560ec0c8051782377c"
          ],
          [
           "0xa06591252908576a0f64a8560ec0c8051782377c",
           "0x6b75d8af000000e20b7a7ddf000ba900b4009a80"
          ],
          [
           "0xa06591252908576a0f64a8560ec0c8051782377c",
           "0x6d57cfb8f9e3586bcb4ee9ad037c601875919e50"
          ],
          [
           "0xa06591252908576a0f64a8560ec0c8051782377c",
           "0x318f17e82644c9cd4f0d90578f5a8bcd88e78aa5"
          ],
          [
           "0xa06591252908576a0f64a8560ec0c8051782377c",
           "0x86720548e88ee3093f76a85823c6cb45e27517d6"
          ],
          [
           "0x6b75d8af000000e20b7a7ddf000ba900b4009a80",
           "0xa06591252908576a0f64a8560ec0c8051782377c"
          ],
          [
           "0xa06591252908576a0f64a8560ec0c8051782377c",
           "0xe25c724fde32b3402b6574db429c2828dd04e3d1"
          ],
          [
           "0xa17b91bddce741528fddf8e5738a767b3053ac18",
           "0x4db7b7faa22bb17c52880044ff2346915ea46c1c"
          ],
          [
           "0xa06591252908576a0f64a8560ec0c8051782377c",
           "0x320369f9d07e5760b7cf9120525258dec79cf3a6"
          ],
          [
           "0x97ebd2c60b4a689f686543b45ff70ced0c043c6f",
           "0x27b82b91c6583fe1a830b4a0620eca4027492a61"
          ],
          [
           "0xa06591252908576a0f64a8560ec0c8051782377c",
           "0x27b82b91c6583fe1a830b4a0620eca4027492a61"
          ],
          [
           "0xa17b91bddce741528fddf8e5738a767b3053ac18",
           "0xe08beb8c48e71fd08560db2fbaaa0701b187c7a7"
          ],
          [
           "0xe08beb8c48e71fd08560db2fbaaa0701b187c7a7",
           "0xa06591252908576a0f64a8560ec0c8051782377c"
          ],
          [
           "0x27b82b91c6583fe1a830b4a0620eca4027492a61",
           "0x6a8aeb3f8509c188775f65fd1e9eb5dd10abb8db"
          ],
          [
           "0x27b82b91c6583fe1a830b4a0620eca4027492a61",
           "0xd85df2051017c15c880b54771c051714a53de3c5"
          ],
          [
           "0x6a8aeb3f8509c188775f65fd1e9eb5dd10abb8db",
           "0x27b82b91c6583fe1a830b4a0620eca4027492a61"
          ],
          [
           "0xa06591252908576a0f64a8560ec0c8051782377c",
           "0x1688768d86d861944b2c2da2898eb57f6d5de236"
          ],
          [
           "0xa17b91bddce741528fddf8e5738a767b3053ac18",
           "0x58218b6335e4086583041994983ab30c848bc370"
          ],
          [
           "0xc3c1838cefccb0ab2a49cb71aef0fccc9bb4f823",
           "0xa06591252908576a0f64a8560ec0c8051782377c"
          ],
          [
           "0xa06591252908576a0f64a8560ec0c8051782377c",
           "0x6b75d8af000000e20b7a7ddf000ba900b4009a80"
          ],
          [
           "0xa06591252908576a0f64a8560ec0c8051782377c",
           "0x58f27e29a83351f150566c704b27b4524dc49865"
          ],
          [
           "0x6b75d8af000000e20b7a7ddf000ba900b4009a80",
           "0xa06591252908576a0f64a8560ec0c8051782377c"
          ],
          [
           "0x0000000000000000000000000000000000000000",
           "0x93e624d7e856087bce10ac67d9babcc67427db18"
          ],
          [
           "0x0000000000000000000000000000000000000000",
           "0x566e76dbe103f2d0ae2167d66db69e79d804878b"
          ],
          [
           "0x0000000000000000000000000000000000000000",
           "0x1b4a65d4ae72e44965c9150ee819ed77135efcdb"
          ],
          [
           "0xa06591252908576a0f64a8560ec0c8051782377c",
           "0x6b75d8af000000e20b7a7ddf000ba900b4009a80"
          ],
          [
           "0xa06591252908576a0f64a8560ec0c8051782377c",
           "0x846e8c13bd0ec23fe00eea1d244f604303a73b97"
          ],
          [
           "0x6b75d8af000000e20b7a7ddf000ba900b4009a80",
           "0xa06591252908576a0f64a8560ec0c8051782377c"
          ],
          [
           "0xfa89ec40699bbfd749c4eb6643dc2b22ff0e2aa6",
           "0xe08beb8c48e71fd08560db2fbaaa0701b187c7a7"
          ],
          [
           "0xe08beb8c48e71fd08560db2fbaaa0701b187c7a7",
           "0xa06591252908576a0f64a8560ec0c8051782377c"
          ],
          [
           "0xe08beb8c48e71fd08560db2fbaaa0701b187c7a7",
           "0xa06591252908576a0f64a8560ec0c8051782377c"
          ],
          [
           "0xa06591252908576a0f64a8560ec0c8051782377c",
           "0x44f9ce57eebec5e53aef36f908929b7589d20faf"
          ],
          [
           "0xa06591252908576a0f64a8560ec0c8051782377c",
           "0xca10f3cb4b59ddb6e19460a496c8bc94ea061246"
          ],
          [
           "0xa0eaf0758332a3c1e63ea32fd9d88d15c147776a",
           "0xc64350c0eab6faed8f17cc2cdff0761c53fb4152"
          ]
         ],
         "hovertemplate": "value=%{x}<br>gasUsed=%{y}<br>from=%{customdata[0]}<br>to=%{customdata[1]}<extra></extra>",
         "legendgroup": "",
         "marker": {
          "color": "#636efa",
          "symbol": "circle"
         },
         "mode": "markers",
         "name": "",
         "orientation": "v",
         "showlegend": false,
         "type": "scatter",
         "x": [
          1e+27,
          2.9980938492161328e+23,
          4.181178518852147e+23,
          3.044666112309824e+23,
          3.044666112309824e+23,
          3.044666112309824e+23,
          3.044666112309824e+23,
          3.044666112309824e+23,
          3.044666112309824e+23,
          3.914459060451596e+23,
          3.914459060451596e+23,
          3.1881128863742254e+22,
          3.1881128863742254e+22,
          3.1881128863742254e+22,
          3.1881128863742254e+22,
          3.288051685066359e+24,
          3.288051685066359e+24,
          3.288051685066359e+24,
          3.288051685066359e+24,
          3.288051685066359e+24,
          2.1810238728270107e+25,
          2.1810238728270107e+25,
          2.1810238728270107e+25,
          2.1810238728270107e+25,
          2.1810238728270107e+25,
          2.1810238728270107e+25,
          2.1810238728270107e+25,
          5.859392771139625e+24,
          5.859392771139625e+24,
          5.859392771139625e+24,
          5.859392771139625e+24,
          5.859392771139625e+24,
          5.859392771139625e+24,
          5.859392771139625e+24,
          1e+28,
          1e+28
         ],
         "xaxis": "x",
         "y": [
          2185859,
          5165012,
          525402,
          290153,
          290153,
          290153,
          290153,
          290153,
          290153,
          5119241,
          5119241,
          2698728,
          2698728,
          2698728,
          2698728,
          5154905,
          5154905,
          5154905,
          5154905,
          5154905,
          228765,
          228765,
          228765,
          228765,
          228765,
          228765,
          228765,
          171383,
          171383,
          171383,
          171383,
          171383,
          171383,
          171383,
          5092799,
          5092799
         ],
         "yaxis": "y"
        }
       ],
       "layout": {
        "legend": {
         "tracegroupgap": 0
        },
        "margin": {
         "t": 60
        },
        "template": {
         "data": {
          "bar": [
           {
            "error_x": {
             "color": "#2a3f5f"
            },
            "error_y": {
             "color": "#2a3f5f"
            },
            "marker": {
             "line": {
              "color": "#E5ECF6",
              "width": 0.5
             },
             "pattern": {
              "fillmode": "overlay",
              "size": 10,
              "solidity": 0.2
             }
            },
            "type": "bar"
           }
          ],
          "barpolar": [
           {
            "marker": {
             "line": {
              "color": "#E5ECF6",
              "width": 0.5
             },
             "pattern": {
              "fillmode": "overlay",
              "size": 10,
              "solidity": 0.2
             }
            },
            "type": "barpolar"
           }
          ],
          "carpet": [
           {
            "aaxis": {
             "endlinecolor": "#2a3f5f",
             "gridcolor": "white",
             "linecolor": "white",
             "minorgridcolor": "white",
             "startlinecolor": "#2a3f5f"
            },
            "baxis": {
             "endlinecolor": "#2a3f5f",
             "gridcolor": "white",
             "linecolor": "white",
             "minorgridcolor": "white",
             "startlinecolor": "#2a3f5f"
            },
            "type": "carpet"
           }
          ],
          "choropleth": [
           {
            "colorbar": {
             "outlinewidth": 0,
             "ticks": ""
            },
            "type": "choropleth"
           }
          ],
          "contour": [
           {
            "colorbar": {
             "outlinewidth": 0,
             "ticks": ""
            },
            "colorscale": [
             [
              0,
              "#0d0887"
             ],
             [
              0.1111111111111111,
              "#46039f"
             ],
             [
              0.2222222222222222,
              "#7201a8"
             ],
             [
              0.3333333333333333,
              "#9c179e"
             ],
             [
              0.4444444444444444,
              "#bd3786"
             ],
             [
              0.5555555555555556,
              "#d8576b"
             ],
             [
              0.6666666666666666,
              "#ed7953"
             ],
             [
              0.7777777777777778,
              "#fb9f3a"
             ],
             [
              0.8888888888888888,
              "#fdca26"
             ],
             [
              1,
              "#f0f921"
             ]
            ],
            "type": "contour"
           }
          ],
          "contourcarpet": [
           {
            "colorbar": {
             "outlinewidth": 0,
             "ticks": ""
            },
            "type": "contourcarpet"
           }
          ],
          "heatmap": [
           {
            "colorbar": {
             "outlinewidth": 0,
             "ticks": ""
            },
            "colorscale": [
             [
              0,
              "#0d0887"
             ],
             [
              0.1111111111111111,
              "#46039f"
             ],
             [
              0.2222222222222222,
              "#7201a8"
             ],
             [
              0.3333333333333333,
              "#9c179e"
             ],
             [
              0.4444444444444444,
              "#bd3786"
             ],
             [
              0.5555555555555556,
              "#d8576b"
             ],
             [
              0.6666666666666666,
              "#ed7953"
             ],
             [
              0.7777777777777778,
              "#fb9f3a"
             ],
             [
              0.8888888888888888,
              "#fdca26"
             ],
             [
              1,
              "#f0f921"
             ]
            ],
            "type": "heatmap"
           }
          ],
          "heatmapgl": [
           {
            "colorbar": {
             "outlinewidth": 0,
             "ticks": ""
            },
            "colorscale": [
             [
              0,
              "#0d0887"
             ],
             [
              0.1111111111111111,
              "#46039f"
             ],
             [
              0.2222222222222222,
              "#7201a8"
             ],
             [
              0.3333333333333333,
              "#9c179e"
             ],
             [
              0.4444444444444444,
              "#bd3786"
             ],
             [
              0.5555555555555556,
              "#d8576b"
             ],
             [
              0.6666666666666666,
              "#ed7953"
             ],
             [
              0.7777777777777778,
              "#fb9f3a"
             ],
             [
              0.8888888888888888,
              "#fdca26"
             ],
             [
              1,
              "#f0f921"
             ]
            ],
            "type": "heatmapgl"
           }
          ],
          "histogram": [
           {
            "marker": {
             "pattern": {
              "fillmode": "overlay",
              "size": 10,
              "solidity": 0.2
             }
            },
            "type": "histogram"
           }
          ],
          "histogram2d": [
           {
            "colorbar": {
             "outlinewidth": 0,
             "ticks": ""
            },
            "colorscale": [
             [
              0,
              "#0d0887"
             ],
             [
              0.1111111111111111,
              "#46039f"
             ],
             [
              0.2222222222222222,
              "#7201a8"
             ],
             [
              0.3333333333333333,
              "#9c179e"
             ],
             [
              0.4444444444444444,
              "#bd3786"
             ],
             [
              0.5555555555555556,
              "#d8576b"
             ],
             [
              0.6666666666666666,
              "#ed7953"
             ],
             [
              0.7777777777777778,
              "#fb9f3a"
             ],
             [
              0.8888888888888888,
              "#fdca26"
             ],
             [
              1,
              "#f0f921"
             ]
            ],
            "type": "histogram2d"
           }
          ],
          "histogram2dcontour": [
           {
            "colorbar": {
             "outlinewidth": 0,
             "ticks": ""
            },
            "colorscale": [
             [
              0,
              "#0d0887"
             ],
             [
              0.1111111111111111,
              "#46039f"
             ],
             [
              0.2222222222222222,
              "#7201a8"
             ],
             [
              0.3333333333333333,
              "#9c179e"
             ],
             [
              0.4444444444444444,
              "#bd3786"
             ],
             [
              0.5555555555555556,
              "#d8576b"
             ],
             [
              0.6666666666666666,
              "#ed7953"
             ],
             [
              0.7777777777777778,
              "#fb9f3a"
             ],
             [
              0.8888888888888888,
              "#fdca26"
             ],
             [
              1,
              "#f0f921"
             ]
            ],
            "type": "histogram2dcontour"
           }
          ],
          "mesh3d": [
           {
            "colorbar": {
             "outlinewidth": 0,
             "ticks": ""
            },
            "type": "mesh3d"
           }
          ],
          "parcoords": [
           {
            "line": {
             "colorbar": {
              "outlinewidth": 0,
              "ticks": ""
             }
            },
            "type": "parcoords"
           }
          ],
          "pie": [
           {
            "automargin": true,
            "type": "pie"
           }
          ],
          "scatter": [
           {
            "marker": {
             "colorbar": {
              "outlinewidth": 0,
              "ticks": ""
             }
            },
            "type": "scatter"
           }
          ],
          "scatter3d": [
           {
            "line": {
             "colorbar": {
              "outlinewidth": 0,
              "ticks": ""
             }
            },
            "marker": {
             "colorbar": {
              "outlinewidth": 0,
              "ticks": ""
             }
            },
            "type": "scatter3d"
           }
          ],
          "scattercarpet": [
           {
            "marker": {
             "colorbar": {
              "outlinewidth": 0,
              "ticks": ""
             }
            },
            "type": "scattercarpet"
           }
          ],
          "scattergeo": [
           {
            "marker": {
             "colorbar": {
              "outlinewidth": 0,
              "ticks": ""
             }
            },
            "type": "scattergeo"
           }
          ],
          "scattergl": [
           {
            "marker": {
             "colorbar": {
              "outlinewidth": 0,
              "ticks": ""
             }
            },
            "type": "scattergl"
           }
          ],
          "scattermapbox": [
           {
            "marker": {
             "colorbar": {
              "outlinewidth": 0,
              "ticks": ""
             }
            },
            "type": "scattermapbox"
           }
          ],
          "scatterpolar": [
           {
            "marker": {
             "colorbar": {
              "outlinewidth": 0,
              "ticks": ""
             }
            },
            "type": "scatterpolar"
           }
          ],
          "scatterpolargl": [
           {
            "marker": {
             "colorbar": {
              "outlinewidth": 0,
              "ticks": ""
             }
            },
            "type": "scatterpolargl"
           }
          ],
          "scatterternary": [
           {
            "marker": {
             "colorbar": {
              "outlinewidth": 0,
              "ticks": ""
             }
            },
            "type": "scatterternary"
           }
          ],
          "surface": [
           {
            "colorbar": {
             "outlinewidth": 0,
             "ticks": ""
            },
            "colorscale": [
             [
              0,
              "#0d0887"
             ],
             [
              0.1111111111111111,
              "#46039f"
             ],
             [
              0.2222222222222222,
              "#7201a8"
             ],
             [
              0.3333333333333333,
              "#9c179e"
             ],
             [
              0.4444444444444444,
              "#bd3786"
             ],
             [
              0.5555555555555556,
              "#d8576b"
             ],
             [
              0.6666666666666666,
              "#ed7953"
             ],
             [
              0.7777777777777778,
              "#fb9f3a"
             ],
             [
              0.8888888888888888,
              "#fdca26"
             ],
             [
              1,
              "#f0f921"
             ]
            ],
            "type": "surface"
           }
          ],
          "table": [
           {
            "cells": {
             "fill": {
              "color": "#EBF0F8"
             },
             "line": {
              "color": "white"
             }
            },
            "header": {
             "fill": {
              "color": "#C8D4E3"
             },
             "line": {
              "color": "white"
             }
            },
            "type": "table"
           }
          ]
         },
         "layout": {
          "annotationdefaults": {
           "arrowcolor": "#2a3f5f",
           "arrowhead": 0,
           "arrowwidth": 1
          },
          "autotypenumbers": "strict",
          "coloraxis": {
           "colorbar": {
            "outlinewidth": 0,
            "ticks": ""
           }
          },
          "colorscale": {
           "diverging": [
            [
             0,
             "#8e0152"
            ],
            [
             0.1,
             "#c51b7d"
            ],
            [
             0.2,
             "#de77ae"
            ],
            [
             0.3,
             "#f1b6da"
            ],
            [
             0.4,
             "#fde0ef"
            ],
            [
             0.5,
             "#f7f7f7"
            ],
            [
             0.6,
             "#e6f5d0"
            ],
            [
             0.7,
             "#b8e186"
            ],
            [
             0.8,
             "#7fbc41"
            ],
            [
             0.9,
             "#4d9221"
            ],
            [
             1,
             "#276419"
            ]
           ],
           "sequential": [
            [
             0,
             "#0d0887"
            ],
            [
             0.1111111111111111,
             "#46039f"
            ],
            [
             0.2222222222222222,
             "#7201a8"
            ],
            [
             0.3333333333333333,
             "#9c179e"
            ],
            [
             0.4444444444444444,
             "#bd3786"
            ],
            [
             0.5555555555555556,
             "#d8576b"
            ],
            [
             0.6666666666666666,
             "#ed7953"
            ],
            [
             0.7777777777777778,
             "#fb9f3a"
            ],
            [
             0.8888888888888888,
             "#fdca26"
            ],
            [
             1,
             "#f0f921"
            ]
           ],
           "sequentialminus": [
            [
             0,
             "#0d0887"
            ],
            [
             0.1111111111111111,
             "#46039f"
            ],
            [
             0.2222222222222222,
             "#7201a8"
            ],
            [
             0.3333333333333333,
             "#9c179e"
            ],
            [
             0.4444444444444444,
             "#bd3786"
            ],
            [
             0.5555555555555556,
             "#d8576b"
            ],
            [
             0.6666666666666666,
             "#ed7953"
            ],
            [
             0.7777777777777778,
             "#fb9f3a"
            ],
            [
             0.8888888888888888,
             "#fdca26"
            ],
            [
             1,
             "#f0f921"
            ]
           ]
          },
          "colorway": [
           "#636efa",
           "#EF553B",
           "#00cc96",
           "#ab63fa",
           "#FFA15A",
           "#19d3f3",
           "#FF6692",
           "#B6E880",
           "#FF97FF",
           "#FECB52"
          ],
          "font": {
           "color": "#2a3f5f"
          },
          "geo": {
           "bgcolor": "white",
           "lakecolor": "white",
           "landcolor": "#E5ECF6",
           "showlakes": true,
           "showland": true,
           "subunitcolor": "white"
          },
          "hoverlabel": {
           "align": "left"
          },
          "hovermode": "closest",
          "mapbox": {
           "style": "light"
          },
          "paper_bgcolor": "white",
          "plot_bgcolor": "#E5ECF6",
          "polar": {
           "angularaxis": {
            "gridcolor": "white",
            "linecolor": "white",
            "ticks": ""
           },
           "bgcolor": "#E5ECF6",
           "radialaxis": {
            "gridcolor": "white",
            "linecolor": "white",
            "ticks": ""
           }
          },
          "scene": {
           "xaxis": {
            "backgroundcolor": "#E5ECF6",
            "gridcolor": "white",
            "gridwidth": 2,
            "linecolor": "white",
            "showbackground": true,
            "ticks": "",
            "zerolinecolor": "white"
           },
           "yaxis": {
            "backgroundcolor": "#E5ECF6",
            "gridcolor": "white",
            "gridwidth": 2,
            "linecolor": "white",
            "showbackground": true,
            "ticks": "",
            "zerolinecolor": "white"
           },
           "zaxis": {
            "backgroundcolor": "#E5ECF6",
            "gridcolor": "white",
            "gridwidth": 2,
            "linecolor": "white",
            "showbackground": true,
            "ticks": "",
            "zerolinecolor": "white"
           }
          },
          "shapedefaults": {
           "line": {
            "color": "#2a3f5f"
           }
          },
          "ternary": {
           "aaxis": {
            "gridcolor": "white",
            "linecolor": "white",
            "ticks": ""
           },
           "baxis": {
            "gridcolor": "white",
            "linecolor": "white",
            "ticks": ""
           },
           "bgcolor": "#E5ECF6",
           "caxis": {
            "gridcolor": "white",
            "linecolor": "white",
            "ticks": ""
           }
          },
          "title": {
           "x": 0.05
          },
          "xaxis": {
           "automargin": true,
           "gridcolor": "white",
           "linecolor": "white",
           "ticks": "",
           "title": {
            "standoff": 15
           },
           "zerolinecolor": "white",
           "zerolinewidth": 2
          },
          "yaxis": {
           "automargin": true,
           "gridcolor": "white",
           "linecolor": "white",
           "ticks": "",
           "title": {
            "standoff": 15
           },
           "zerolinecolor": "white",
           "zerolinewidth": 2
          }
         }
        },
        "title": {
         "text": "Anomaly Visualization"
        },
        "xaxis": {
         "anchor": "y",
         "domain": [
          0,
          1
         ],
         "title": {
          "text": "Transaction Value"
         }
        },
        "yaxis": {
         "anchor": "x",
         "domain": [
          0,
          1
         ],
         "title": {
          "text": "Gas Used"
         }
        }
       }
      }
     },
     "metadata": {},
     "output_type": "display_data"
    }
   ],
   "source": [
    "import plotly.express as px\n",
    "\n",
    "# Filter out anomalous transactions\n",
    "anomalous_data = df_features[df_features['anomaly'] == 1]\n",
    "anomalous_data = anomalous_data.join(df_transfers[['from', 'to']])  # Add wallet addresses\n",
    "\n",
    "\n",
    "# Create a scatter plot\n",
    "fig = px.scatter(anomalous_data, x='value', y='gasUsed', hover_data=['from', 'to'])\n",
    "\n",
    "fig.update_layout(\n",
    "    title='Anomaly Visualization',\n",
    "    xaxis_title='Transaction Value',\n",
    "    yaxis_title='Gas Used'\n",
    ")\n",
    "\n",
    "fig.show()\n"
   ]
  },
  {
   "cell_type": "code",
   "execution_count": 37,
   "metadata": {},
   "outputs": [
    {
     "data": {
      "text/html": [
       "<div>\n",
       "<style scoped>\n",
       "    .dataframe tbody tr th:only-of-type {\n",
       "        vertical-align: middle;\n",
       "    }\n",
       "\n",
       "    .dataframe tbody tr th {\n",
       "        vertical-align: top;\n",
       "    }\n",
       "\n",
       "    .dataframe thead th {\n",
       "        text-align: right;\n",
       "    }\n",
       "</style>\n",
       "<table border=\"1\" class=\"dataframe\">\n",
       "  <thead>\n",
       "    <tr style=\"text-align: right;\">\n",
       "      <th></th>\n",
       "      <th>value</th>\n",
       "      <th>gas</th>\n",
       "      <th>gasPrice</th>\n",
       "      <th>gasUsed</th>\n",
       "      <th>anomaly</th>\n",
       "      <th>from</th>\n",
       "      <th>to</th>\n",
       "    </tr>\n",
       "    <tr>\n",
       "      <th>timeStamp</th>\n",
       "      <th></th>\n",
       "      <th></th>\n",
       "      <th></th>\n",
       "      <th></th>\n",
       "      <th></th>\n",
       "      <th></th>\n",
       "      <th></th>\n",
       "    </tr>\n",
       "  </thead>\n",
       "  <tbody>\n",
       "    <tr>\n",
       "      <th>2023-08-04 20:39:59</th>\n",
       "      <td>1.000000e+27</td>\n",
       "      <td>2185859</td>\n",
       "      <td>21086474497</td>\n",
       "      <td>2185859</td>\n",
       "      <td>1</td>\n",
       "      <td>0x0000000000000000000000000000000000000000</td>\n",
       "      <td>0xc687f96d50f70e20bd2c038901bf13a6c5e6d78e</td>\n",
       "    </tr>\n",
       "    <tr>\n",
       "      <th>2023-08-04 20:48:11</th>\n",
       "      <td>2.998094e+23</td>\n",
       "      <td>6301118</td>\n",
       "      <td>25482292310</td>\n",
       "      <td>5165012</td>\n",
       "      <td>1</td>\n",
       "      <td>0xc687f96d50f70e20bd2c038901bf13a6c5e6d78e</td>\n",
       "      <td>0xa06591252908576a0f64a8560ec0c8051782377c</td>\n",
       "    </tr>\n",
       "    <tr>\n",
       "      <th>2023-08-04 23:35:11</th>\n",
       "      <td>4.181179e+23</td>\n",
       "      <td>1323672</td>\n",
       "      <td>224314676458</td>\n",
       "      <td>525402</td>\n",
       "      <td>1</td>\n",
       "      <td>0x675fb8c954ac3be7b464c67fe5c4bee16ca899a8</td>\n",
       "      <td>0xa06591252908576a0f64a8560ec0c8051782377c</td>\n",
       "    </tr>\n",
       "    <tr>\n",
       "      <th>2023-08-04 23:39:47</th>\n",
       "      <td>3.044666e+23</td>\n",
       "      <td>414504</td>\n",
       "      <td>314269337074</td>\n",
       "      <td>290153</td>\n",
       "      <td>1</td>\n",
       "      <td>0xa06591252908576a0f64a8560ec0c8051782377c</td>\n",
       "      <td>0x6b75d8af000000e20b7a7ddf000ba900b4009a80</td>\n",
       "    </tr>\n",
       "    <tr>\n",
       "      <th>2023-08-04 23:39:47</th>\n",
       "      <td>3.044666e+23</td>\n",
       "      <td>414504</td>\n",
       "      <td>314269337074</td>\n",
       "      <td>290153</td>\n",
       "      <td>1</td>\n",
       "      <td>0xa06591252908576a0f64a8560ec0c8051782377c</td>\n",
       "      <td>0x6d57cfb8f9e3586bcb4ee9ad037c601875919e50</td>\n",
       "    </tr>\n",
       "  </tbody>\n",
       "</table>\n",
       "</div>"
      ],
      "text/plain": [
       "                            value      gas      gasPrice  gasUsed  anomaly  \\\n",
       "timeStamp                                                                    \n",
       "2023-08-04 20:39:59  1.000000e+27  2185859   21086474497  2185859        1   \n",
       "2023-08-04 20:48:11  2.998094e+23  6301118   25482292310  5165012        1   \n",
       "2023-08-04 23:35:11  4.181179e+23  1323672  224314676458   525402        1   \n",
       "2023-08-04 23:39:47  3.044666e+23   414504  314269337074   290153        1   \n",
       "2023-08-04 23:39:47  3.044666e+23   414504  314269337074   290153        1   \n",
       "\n",
       "                                                           from  \\\n",
       "timeStamp                                                         \n",
       "2023-08-04 20:39:59  0x0000000000000000000000000000000000000000   \n",
       "2023-08-04 20:48:11  0xc687f96d50f70e20bd2c038901bf13a6c5e6d78e   \n",
       "2023-08-04 23:35:11  0x675fb8c954ac3be7b464c67fe5c4bee16ca899a8   \n",
       "2023-08-04 23:39:47  0xa06591252908576a0f64a8560ec0c8051782377c   \n",
       "2023-08-04 23:39:47  0xa06591252908576a0f64a8560ec0c8051782377c   \n",
       "\n",
       "                                                             to  \n",
       "timeStamp                                                        \n",
       "2023-08-04 20:39:59  0xc687f96d50f70e20bd2c038901bf13a6c5e6d78e  \n",
       "2023-08-04 20:48:11  0xa06591252908576a0f64a8560ec0c8051782377c  \n",
       "2023-08-04 23:35:11  0xa06591252908576a0f64a8560ec0c8051782377c  \n",
       "2023-08-04 23:39:47  0x6b75d8af000000e20b7a7ddf000ba900b4009a80  \n",
       "2023-08-04 23:39:47  0x6d57cfb8f9e3586bcb4ee9ad037c601875919e50  "
      ]
     },
     "execution_count": 37,
     "metadata": {},
     "output_type": "execute_result"
    }
   ],
   "source": [
    "anomalous_data.head()"
   ]
  },
  {
   "cell_type": "code",
   "execution_count": 33,
   "metadata": {},
   "outputs": [
    {
     "name": "stderr",
     "output_type": "stream",
     "text": [
      "/var/folders/42/0ktpxb410cg701991z265xdw0000gn/T/ipykernel_92012/1635805483.py:6: SettingWithCopyWarning:\n",
      "\n",
      "\n",
      "A value is trying to be set on a copy of a slice from a DataFrame.\n",
      "Try using .loc[row_indexer,col_indexer] = value instead\n",
      "\n",
      "See the caveats in the documentation: https://pandas.pydata.org/pandas-docs/stable/user_guide/indexing.html#returning-a-view-versus-a-copy\n",
      "\n"
     ]
    }
   ],
   "source": [
    "# Wallet performance\n",
    "\n",
    "df_trading = df_transfers[['from', 'to', 'value']]\n",
    "df_trading['value'] = pd.to_numeric(df_trading['value'], errors='coerce')\n"
   ]
  },
  {
   "cell_type": "code",
   "execution_count": 34,
   "metadata": {},
   "outputs": [],
   "source": [
    "# Group by wallet address and calculate the net token movement\n",
    "net_tokens = df_trading.groupby('from')['value'].sum() - df_trading.groupby('to')['value'].sum()\n",
    "\n",
    "# Filter wallets with a net positive token balance\n",
    "profitable_wallets = net_tokens[net_tokens > 0].sort_values(ascending=False)\n"
   ]
  },
  {
   "cell_type": "code",
   "execution_count": 35,
   "metadata": {},
   "outputs": [
    {
     "name": "stdout",
     "output_type": "stream",
     "text": [
      "0xe08beb8c48e71fd08560db2fbaaa0701b187c7a7    3.435974e+10\n",
      "0xdef171fe48cf0115b1d80b88dc8eab59176fee57    8.589935e+09\n",
      "Name: value, dtype: float64\n"
     ]
    }
   ],
   "source": [
    "print(profitable_wallets.head(10))\n"
   ]
  },
  {
   "cell_type": "code",
   "execution_count": null,
   "metadata": {},
   "outputs": [],
   "source": []
  }
 ],
 "metadata": {
  "kernelspec": {
   "display_name": "base",
   "language": "python",
   "name": "python3"
  },
  "language_info": {
   "codemirror_mode": {
    "name": "ipython",
    "version": 3
   },
   "file_extension": ".py",
   "mimetype": "text/x-python",
   "name": "python",
   "nbconvert_exporter": "python",
   "pygments_lexer": "ipython3",
   "version": "3.9.12"
  },
  "orig_nbformat": 4
 },
 "nbformat": 4,
 "nbformat_minor": 2
}
