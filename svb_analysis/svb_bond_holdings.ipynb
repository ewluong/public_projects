{
 "cells": [
  {
   "cell_type": "code",
   "execution_count": null,
   "metadata": {},
   "outputs": [],
   "source": []
  },
  {
   "cell_type": "code",
   "execution_count": 5,
   "metadata": {},
   "outputs": [
    {
     "name": "stdout",
     "output_type": "stream",
     "text": [
      "The required interest rate increase for SVIB to lose all of its money invested in government bonds is: -603.65 %\n",
      "To maintain solvency, SVIB would have to increase the interest rate on customer deposits by: 2512500000.0 % per quarter\n",
      "To maintain solvency, SVIB would have to pay a total of -6066657375000.0 in additional interest on customer deposits over -241459 quarters\n"
     ]
    }
   ],
   "source": [
    "# Total assets of SVIB\n",
    "total_assets = 211000000000\n",
    "\n",
    "# Value of government bonds held by SVIB\n",
    "govt_bond_value = 91000000000\n",
    "\n",
    "# Average duration of SVIB's bond portfolio\n",
    "bond_duration = 10\n",
    "\n",
    "# Average yield of SVIB's bond portfolio\n",
    "bond_yield = 1.5\n",
    "\n",
    "# Proportion of clients wanting to withdraw their money\n",
    "client_proportion = 0.5\n",
    "\n",
    "# Interest rate on SVIB's customer deposits\n",
    "deposit_interest_rate = 0.1\n",
    "\n",
    "# Quarterly increase in interest rates by the Federal Reserve\n",
    "interest_rate_increase = 0.25 / 100\n",
    "\n",
    "# Additional cash reserves held by SVIB\n",
    "cash_reserves = 5000000000\n",
    "\n",
    "# Calculate the amount of money SVIB would have to pay back to clients\n",
    "client_withdrawals = total_assets * client_proportion\n",
    "\n",
    "# Calculate the amount of money that would be left in SVIB's account after client withdrawals\n",
    "remaining_funds = total_assets - client_withdrawals\n",
    "\n",
    "# Calculate the change in the value of SVIB's bond portfolio if interest rates were to increase by 1%\n",
    "bond_price_change = -1 * bond_duration * bond_yield / 100\n",
    "\n",
    "# Calculate the required interest rate increase for SVIB to lose all of its money invested in government bonds\n",
    "required_interest_rate_increase = (govt_bond_value / (remaining_funds - cash_reserves)) / (bond_price_change / 100)\n",
    "\n",
    "# Calculate the number of quarters it would take for interest rates to increase by the required amount\n",
    "quarters_to_reach_required_rate = round(required_interest_rate_increase / interest_rate_increase)\n",
    "\n",
    "# Calculate the amount of additional interest SVIB would have to pay on its customer deposits in each quarter to maintain solvency\n",
    "additional_deposit_interest_per_quarter = deposit_interest_rate * interest_rate_increase * (remaining_funds - cash_reserves)\n",
    "\n",
    "# Calculate the total amount of additional interest SVIB would have to pay on its customer deposits to maintain solvency\n",
    "total_additional_deposit_interest = additional_deposit_interest_per_quarter * quarters_to_reach_required_rate\n",
    "\n",
    "# Print the results\n",
    "print(\"The required interest rate increase for SVIB to lose all of its money invested in government bonds is:\", round(required_interest_rate_increase, 2), \"%\")\n",
    "print(\"To maintain solvency, SVIB would have to increase the interest rate on customer deposits by:\", round(additional_deposit_interest_per_quarter * 100, 2), \"% per quarter\")\n",
    "print(\"To maintain solvency, SVIB would have to pay a total of\", round(total_additional_deposit_interest, 2), \"in additional interest on customer deposits over\", quarters_to_reach_required_rate, \"quarters\")"
   ]
  },
  {
   "cell_type": "code",
   "execution_count": null,
   "metadata": {},
   "outputs": [],
   "source": []
  }
 ],
 "metadata": {
  "kernelspec": {
   "display_name": "base",
   "language": "python",
   "name": "python3"
  },
  "language_info": {
   "codemirror_mode": {
    "name": "ipython",
    "version": 3
   },
   "file_extension": ".py",
   "mimetype": "text/x-python",
   "name": "python",
   "nbconvert_exporter": "python",
   "pygments_lexer": "ipython3",
   "version": "3.9.12"
  },
  "orig_nbformat": 4
 },
 "nbformat": 4,
 "nbformat_minor": 2
}
