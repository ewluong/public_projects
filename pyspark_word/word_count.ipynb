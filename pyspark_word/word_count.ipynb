{
 "cells": [
  {
   "attachments": {},
   "cell_type": "markdown",
   "metadata": {},
   "source": [
    "# Big Data Assignment 3: Word Count PySpark"
   ]
  },
  {
   "cell_type": "code",
   "execution_count": 2,
   "metadata": {},
   "outputs": [
    {
     "name": "stderr",
     "output_type": "stream",
     "text": [
      "                                                                                \r"
     ]
    },
    {
     "name": "stdout",
     "output_type": "stream",
     "text": [
      "Output: top-5 words:\n",
      "\n",
      "(that, 1334)\n",
      "(with, 921)\n",
      "(which, 871)\n",
      "(they, 713)\n",
      "(have, 674)\n"
     ]
    }
   ],
   "source": [
    "from pyspark import SparkConf, SparkContext\n",
    "import re\n",
    "\n",
    "def tokenize_and_clean(line):\n",
    "    # Rule 1: Convert all words to lowercase\n",
    "    # Rule 2: Words are separated by any number of spaces or tabs (handled using regex)\n",
    "    # Rule 3: Remove special characters (except trailing \".\", \";\", \",\", \"?\", \":\")\n",
    "    # Rule 4: Ignore words with less than 4 characters (handled by the regex pattern)\n",
    "    return re.findall(r'\\b[a-zA-Z]{4,}\\b', re.sub(r'[^a-zA-Z\\s]', '', line.lower()))\n",
    "\n",
    "def count_words(file_path):\n",
    "    conf = SparkConf().setAppName(\"WordCount\")\n",
    "    sc = SparkContext(conf=conf)\n",
    "\n",
    "    book_rdd = sc.textFile(file_path)\n",
    "\n",
    "    # Tokenize and clean each line and create a flat list of words\n",
    "    words_rdd = book_rdd.flatMap(tokenize_and_clean)\n",
    "\n",
    "    # Count occurrences of each word\n",
    "    # Rule 7: Must use some Python functions for transformations\n",
    "    word_count_rdd = words_rdd.map(lambda word: (word, 1)).reduceByKey(lambda a, b: a + b)\n",
    "\n",
    "    # Sort words by frequency in descending order and take the top 5\n",
    "    # Rule 8: Keep transformations as simple as possible and use Python functions\n",
    "    top_5_words = word_count_rdd.sortBy(lambda pair: pair[1], ascending=False).take(5)\n",
    "\n",
    "    # Rule 5: Not using collect() for debugging purposes in the submitted solution, single comment line for each transformation\n",
    "    # Rule 6: Be able to explain transformations (explained in comments inside the code)\n",
    "\n",
    "    sc.stop()\n",
    "    return top_5_words\n",
    "\n",
    "if __name__ == \"__main__\":\n",
    "    # input path\n",
    "    input_path = \"/Users/ericluong/Documents/School/Big Data MSIS 2527/Week 5/205-0.txt\"\n",
    "    result = count_words(input_path)\n",
    "\n",
    "    print(\"Output: top-5 words:\\n\")\n",
    "    for i, (word, count) in enumerate(result, start=1):\n",
    "        print(f\"({word}, {count})\")\n"
   ]
  },
  {
   "cell_type": "code",
   "execution_count": null,
   "metadata": {},
   "outputs": [],
   "source": []
  }
 ],
 "metadata": {
  "kernelspec": {
   "display_name": "base",
   "language": "python",
   "name": "python3"
  },
  "language_info": {
   "codemirror_mode": {
    "name": "ipython",
    "version": 3
   },
   "file_extension": ".py",
   "mimetype": "text/x-python",
   "name": "python",
   "nbconvert_exporter": "python",
   "pygments_lexer": "ipython3",
   "version": "3.9.12"
  },
  "orig_nbformat": 4
 },
 "nbformat": 4,
 "nbformat_minor": 2
}
